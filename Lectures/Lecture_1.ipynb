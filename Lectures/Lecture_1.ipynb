{
 "cells": [
  {
   "cell_type": "markdown",
   "metadata": {},
   "source": [
    "#  Python for Economic and Social Data Science: Lecture One"
   ]
  },
  {
   "cell_type": "code",
   "execution_count": null,
   "metadata": {},
   "outputs": [],
   "source": [
    "print('Hello Python!')"
   ]
  },
  {
   "cell_type": "markdown",
   "metadata": {},
   "source": [
    "## Section 1: Introduction\n",
    "\n",
    "Welcome! This is the first of five lectures in this short informal module. For introductory information outlining the class, please see the readme.md file in the [Github repository](https://github.com/crahal/Python_for_DataScience). Please note: this set of five lectures will revolve around Python 3.x, and while you can follow the examples and homeworks in a text-editor ane execute the scripts via the command line, [Jupyter Notebooks](https://jupyter.org/) are ***strongly*** advised! All important Python concepts are in boldface where possible.\n",
    "\n",
    "#### Learning Objectives:\n",
    "\n",
    "In this very introductory lecture we will:\n",
    "\n",
    "* Introduce Python and Git\n",
    "* Cover primative data types (characters and numbers)\n",
    "* Introduce various types of object.\n",
    "\n",
    "Without getting ahead of ourselves, we can note at this early stage that in Python, everything is an object (except control flows), and that it is an object-oriented language (although not a 'pure' one).\n"
   ]
  },
  {
   "cell_type": "markdown",
   "metadata": {},
   "source": [
    "### Section 1.1: The Command Line\n",
    "\n",
    "Using the command line for data science offers powerful capabilities for managing, processing, and analyzing data efficiently. It provides direct access to tools like Python, R, and specialized libraries (e.g., pandas, numpy) for data manipulation, statistical analysis, and machine learning.\n",
    "\n",
    "Key tasks include navigating file systems to access datasets, performing complex data transformations using command-line tools (e.g., sed, awk), and automating repetitive tasks with shell scripting. The command line allows for seamless integration of data processing pipelines, enhancing reproducibility and scalability in projects.\n",
    "\n",
    "Furthermore, version control with Git is seamlessly integrated into command-line workflows, enabling tracking of changes in code, data, and analysis scripts. This ensures collaboration and facilitates the documentation of project evolution over time.\n",
    "\n",
    "However, your use of the command line will vary depending on not just what you are doing, but also on which operating system you are using.\n",
    "\n",
    "**Windows Command Prompt (cmd.exe):**\n",
    "\n",
    "* *Shell:* Uses Command Prompt (cmd.exe) with its own set of commands.\n",
    "* *File Paths:* Uses backslashes () in file paths (e.g., C:\\Users\\Username\\Documents).\n",
    "* *Capabilities:* Limited compared to Unix-like systems in built-in commands and utilities.\n",
    "\n",
    "**macOS and Linux:**\n",
    "\n",
    "* *Shell:* Typically uses Bash or Zsh.\n",
    "* *File Paths:* Uses forward slashes (/) in file paths (e.g., /Users/Username/Documents).\n",
    "* *Capabilities:* Rich set of built-in commands and utilities, extensive support for scripting and automation.\n"
   ]
  },
  {
   "cell_type": "markdown",
   "metadata": {},
   "source": [
    "### Section 1.2: Git\n",
    "\n",
    "Git for Data Science manages version control for data-related projects. It tracks changes in datasets, code, and configuration files, facilitating collaboration and reproducibility. By using Git, data scientists can maintain a history of changes, revert to previous versions, and manage branches for different analysis paths or experiments.\n",
    "\n",
    "Key benefits include transparency in project evolution, enabling teams to understand who made what changes and when. It ensures data integrity by documenting modifications and providing a structured workflow for data manipulation and analysis. Git also supports integration with platforms like GitHub or GitLab for remote collaboration and backup.\n",
    "\n",
    "Here are some useful Git commands for us to think about:\n",
    "\n",
    "* **git clone**: Creates a local copy of a remote repository onto your machine. It downloads all files, branches, and commit history from the remote repository to your local environment, allowing you to work on the project locally.\n",
    "\n",
    "* **git pull**: Updates your local repository with changes from the remote repository. It fetches the latest changes (commits, files) from the remote repository and merges them into your current branch. Useful to synchronize your local repository with the latest changes made by others.\n",
    "\n",
    "* **git push**: Sends your committed changes from your local repository to the remote repository. After making changes locally and committing them, git push uploads these changes to the corresponding branch on the remote repository, making them accessible to others working on the project.\n",
    "\n",
    "* **git commit**: Records changes made to the files in your local repository. It captures a snapshot of the current state of files you have staged (added) and stores it as a commit object in the local Git repository. Each commit is accompanied by a commit message that describes the changes made.\n",
    "\n",
    "It is really important that you try to install and familiarise yourself with Git; it's one of the main parts of a data scientist's toolbox. In particular, you should try cloning, or forking the repository which this teaching material is held in, and then try editing and running the scripts (if this is not possible for any reason, simply download the repository)."
   ]
  },
  {
   "cell_type": "markdown",
   "metadata": {},
   "source": [
    "### Section 1.3: Python\n",
    "\n",
    "Python is a high-level, interpreted programming language characterized by its simplicity and readability. It supports multiple programming paradigms:\n",
    "\n",
    "* **Dynamic Typing:** Python uses dynamic typing, meaning variables are not explicitly declared with types. Instead, types are inferred at runtime based on the assigned value. This flexibility allows for easier and more concise code but can lead to runtime errors if types are mismatched.\n",
    "\n",
    "* **Procedural Programming:** Python supports procedural programming where tasks are structured into procedures or functions that perform operations on data. It emphasizes step-by-step instructions for solving problems, making it straightforward for beginners and useful for organizing code into reusable components.\n",
    "\n",
    "* **Object-Oriented Programming (OOP):** Python is also an object-oriented language, where data and functionality are encapsulated into objects. Objects can interact with each other through methods (functions belonging to classes) and inheritance (deriving new classes from existing ones), promoting modularity and code reuse.\n",
    "\n",
    "* **Functional Programming:** Python incorporates functional programming concepts such as first-class functions (functions treated as first-class citizens) and lambda expressions (anonymous functions). Functional programming emphasizes functions as the primary building blocks, promoting immutability and pure functions for predictable behavior.\n",
    "\n",
    "* **Automatic Memory Management:** Python features automatic memory management through garbage collection. It automatically allocates memory for new objects and reclaims memory occupied by objects no longer in use, relieving developers from manual memory management tasks present in lower-level languages like C or C++.\n",
    "\n",
    "Python's strengths lie in its extensive standard library and third-party packages, facilitating diverse applications in web development, scientific computing, and data analysis. Its interpreted nature allows for rapid development and debugging, while its ecosystem supports frameworks (e.g., Django, Flask), libraries (e.g., NumPy, pandas), and tools (e.g., Jupyter Notebooks) essential for modern software development and data science workflows.\n",
    "\n",
    "#### Section 1.3.1: Python 2.* vs Python 3.*\n",
    "\n",
    "Python 2 and Python 3 represent two major versions of the Python programming language, each with distinct differences. Python 2, released in 2000, was widely used but reached its end of life in 2020, ceasing official support and updates. Python 3, introduced in 2008, aimed to fix design flaws, improve consistency, and enhance performance. Key disparities include print syntax (parentheses in Python 3), integer division behavior (Python 3 returns float by default), and Unicode support (Python 3 handles strings as Unicode by default). Python 3 offers significant improvements, yet migration challenges exist due to codebase compatibility issues, impacting adoption rates.\n",
    "\n",
    "### Section 1.4.: Your turn!\n",
    "\n",
    "Have you used the command line before? What about Git or Python? Can you name some data scientific endeavours which utilise these tools specifically well?"
   ]
  },
  {
   "cell_type": "markdown",
   "metadata": {},
   "source": [
    "## Section 2: Primative Data Types\n",
    "\n",
    "Before we get to objects, which are the abstract building blocks of data, let's first introduce some primitive data types:\n",
    "\n",
    "* Characters: 'A', '!', '1' -- one single 'glyph'\n",
    "* Numbers\n",
    "* Two types of numbers:\n",
    "** Integer: 1,2,3, -500, +600,\n",
    "** Float: 1.123, 0.1232534, -4123.123123"
   ]
  },
  {
   "cell_type": "markdown",
   "metadata": {},
   "source": [
    "### Section 2.1: Characters\n",
    "\n",
    "A character is a single 'glyph' that is included in a 'character set'. Some characters are visible, such as the letter A (or 'a' - note case sensitivity will be *extremely* important, as we'll see later) and some are 'invisible' to some extent. A word is the simple character set, for exmaple. Within this specific Jupyter Notebook, multiple characters make content in 'markdown'. Characters are also joined together to form variable names, or control the flow of a Python program. There are three important invisible characters:\n",
    "\n",
    "1. Space (the common whitespace which is separating these words)\n",
    "2. Tab (which is usually about four spaces long - more in Lecture Two when we talk about indenting)\n",
    "3. Newline character (which tells the computer to move to the next line)\n",
    "\n",
    "Lets look at some examples, and introduce the hugely important `print` command:"
   ]
  },
  {
   "cell_type": "code",
   "execution_count": null,
   "metadata": {},
   "outputs": [],
   "source": [
    "print('1. hello friends! how are you today?')\n",
    "print('2. hello friends! \\nhow are you today?')\n",
    "print('3. hello friends! \\thow are you today?')"
   ]
  },
  {
   "cell_type": "markdown",
   "metadata": {},
   "source": [
    "We can at this point introduce another very important command: `type'. This tells us what 'type' of object something is. "
   ]
  },
  {
   "cell_type": "code",
   "execution_count": null,
   "metadata": {},
   "outputs": [],
   "source": [
    "type('this is a group of characters')"
   ]
  },
  {
   "cell_type": "code",
   "execution_count": null,
   "metadata": {},
   "outputs": [],
   "source": [
    "type(1)"
   ]
  },
  {
   "cell_type": "code",
   "execution_count": null,
   "metadata": {},
   "outputs": [],
   "source": [
    "type(1.0)"
   ]
  },
  {
   "cell_type": "code",
   "execution_count": null,
   "metadata": {},
   "outputs": [],
   "source": [
    "type([1, 1.0])"
   ]
  },
  {
   "cell_type": "markdown",
   "metadata": {},
   "source": [
    "Here are the ten most important types of object in Python, which we'll see most -- if not all -- of during this course:\n",
    "\n",
    "1. int: Represents integer numbers (whole numbers without decimals).\n",
    "2. float: Represents floating-point numbers (numbers with decimals or scientific notation).\n",
    "3. str: Represents sequences of characters (textual data enclosed in quotes).\n",
    "4. list: Represents ordered collections of items (mutable sequences enclosed in square brackets).\n",
    "5. dict: Represents collections of key-value pairs (mutable mappings enclosed in curly braces).\n",
    "6. tuple: Represents ordered collections of items (immutable sequences enclosed in parentheses).\n",
    "7. bool: Represents boolean values (True or False).\n",
    "8. set: Represents unordered collections of unique items (mutable collections enclosed in curly braces or created using the set() constructor).\n",
    "9. NoneType: Represents the absence of a value (often used as a default return value).\n",
    "10. function: Represents callable objects that can perform a task or return a value when called."
   ]
  },
  {
   "cell_type": "markdown",
   "metadata": {},
   "source": [
    "### 2.2 Numbers \n",
    "\n",
    "Numbers come in several **types** (of object), but two are specifically important to mention:\n",
    "\n",
    "1. Integers - whole numbers, such as 1 or 42,\n",
    "2. Floating point numbers - these allow for decimal points such as 2.17 or 3.33\n",
    "\n",
    "Lets first consider this: "
   ]
  },
  {
   "cell_type": "code",
   "execution_count": null,
   "metadata": {},
   "outputs": [],
   "source": [
    "12 / 5"
   ]
  },
  {
   "cell_type": "markdown",
   "metadata": {},
   "source": [
    "What's happened here? We've divided two integers to get a float! Floats can be distinguished from integers because they have a fractional part. We can *force* a number to be either an integer or a float using int() and float():"
   ]
  },
  {
   "cell_type": "code",
   "execution_count": null,
   "metadata": {},
   "outputs": [],
   "source": [
    "int(12/5)"
   ]
  },
  {
   "cell_type": "code",
   "execution_count": null,
   "metadata": {},
   "outputs": [],
   "source": [
    "float(12/5)"
   ]
  },
  {
   "cell_type": "code",
   "execution_count": null,
   "metadata": {},
   "outputs": [],
   "source": [
    "type(int(12/5))"
   ]
  },
  {
   "cell_type": "code",
   "execution_count": null,
   "metadata": {},
   "outputs": [],
   "source": [
    "type(12/5)"
   ]
  },
  {
   "cell_type": "markdown",
   "metadata": {},
   "source": [
    "Note also that we can chain these commands together, with the outside one taking precedence:"
   ]
  },
  {
   "cell_type": "code",
   "execution_count": null,
   "metadata": {},
   "outputs": [],
   "source": [
    "type(float(int(12/5)))"
   ]
  },
  {
   "cell_type": "markdown",
   "metadata": {},
   "source": [
    "Note, also, here, a couple of important things about Python:\n",
    "\n",
    "1. It is case sensitive. What happens if you do `type(Float(int(12/5)))`?\n",
    "2. Every time we open a bracket, or parenthesis, we need to close it. What happens if you do `type(Float(int(12/5))`?"
   ]
  },
  {
   "cell_type": "markdown",
   "metadata": {},
   "source": [
    "### Section 2.3. Strings\n",
    "\n",
    "A character isn't very useful on its own. As alluded to above, multiple characters together form a string. In Python, strings are enclosed using quotations. You can use a variety of quotations in order to close the string (i.e. single or double). Two things to remember:\n",
    "\n",
    "1. Always close the string with the same quotes used to open it,\n",
    "2. Always escape a quotation character if you use it inside the string.\n",
    "\n",
    "```python\n",
    "'This is a string.'\n",
    "\n",
    "\"This is also a string.\"\n",
    "\n",
    "'\"This is yet another string!\n",
    "s\n",
    "sdfasdfa\n",
    "asdf\n",
    "asdf\n",
    "asdf\"'\n",
    "\n",
    "''This is not a string, but why?''\n",
    "```\n",
    "\n",
    "In Python 3.* all strings are printed inside parentheses like the following:\n",
    "```python\n",
    "print(\"This is a string!\")\n",
    "```\n",
    "\n",
    "How does this differ from Python 2.x? \n",
    "\n",
    "Now let's **assign** a string to a variable, then print the variable"
   ]
  },
  {
   "cell_type": "code",
   "execution_count": null,
   "metadata": {},
   "outputs": [],
   "source": [
    "SomeVar = \"This is a string. It has been assigned to a variable called 'SomeVar'\"\n",
    "print(SomeVar)"
   ]
  },
  {
   "cell_type": "markdown",
   "metadata": {},
   "source": [
    "A variable is a name that is given to an object whose contents can change.\n",
    "\n",
    "There are some really important variable naming conventions:\n",
    "\n",
    "* ALLCAPS means a variable that we like to keep constant, like a secret key.\n",
    "* underscore: '__' means a variable that is hidden and shouldn't be referenced directly.\n",
    "* variables should only start with ASCII characters (and _not_ numbers).\n",
    "* use a consistent style, such as camelCaseNames or underscore_variable_names.\n",
    "* alllowercasenounderscorenames are very hard to read.\n",
    "* try to give a variable a relevant name; it will make your life much easier!\n",
    "\n",
    "If we want to print and assign a float or int, we have to force its type to a string."
   ]
  },
  {
   "cell_type": "code",
   "execution_count": null,
   "metadata": {},
   "outputs": [],
   "source": [
    "RandomNumber = 2834\n",
    "print('When printing numbers, we need to convert into a string if we are joining them to a string: ' + str(RandomNumber))"
   ]
  },
  {
   "cell_type": "markdown",
   "metadata": {},
   "source": [
    "But, if we are simply printing the numbers, we don't need to do that:"
   ]
  },
  {
   "cell_type": "code",
   "execution_count": null,
   "metadata": {},
   "outputs": [],
   "source": [
    "print(5.00+RandomNumber)"
   ]
  },
  {
   "cell_type": "markdown",
   "metadata": {},
   "source": [
    "### Section 2.4: 📝 Character Sets 📝\n",
    "\n",
    "#### Section 2.4.1: ASCII\n",
    "\n",
    "Strings are drawn from character sets. Loosely, 'the alphabet' is a characeter set, but not a very useful one, because it's so limited. The basic Western character set is ASCII. It has 128 code points. The first 38 are control characters, like 'new line', and the remainder are the upper and lower case alphabet, ten digits and punctuation characters. ASCII is not really sufficient for most languages or most of our data intensive purposes."
   ]
  },
  {
   "cell_type": "code",
   "execution_count": null,
   "metadata": {},
   "outputs": [],
   "source": [
    "# Printing all ASCII characters (from 0 to 127)\n",
    "''.join([chr(i) for i in range(128)])"
   ]
  },
  {
   "cell_type": "markdown",
   "metadata": {},
   "source": [
    "Some of these should be familiar to you, some might not be. Also note: why didn't we have to print that to see the output of it?"
   ]
  },
  {
   "cell_type": "markdown",
   "metadata": {},
   "source": [
    "#### Section 2.4.2: UTF-8\n",
    "\n",
    "Unicode is meant to be a very large character set, containig over a million code points. As such, unicode includes most characters from most languages around the world, as well as the emergent emoji character set. Python 3 makes it pretty straightforward.\n"
   ]
  },
  {
   "cell_type": "code",
   "execution_count": null,
   "metadata": {},
   "outputs": [],
   "source": [
    "print(\"UTF-8 Examples:\")\n",
    "print(\"Smiley face: 😊\")  # U+1F60A\n",
    "print(\"Snowflake: ❄️\")   # U+2744\n",
    "print(\"Copyright symbol: ©\")  # U+00A9\n",
    "print(\"Currency symbols: €, ¥, £\")  # U+20AC, U+00A5, U+00A3\n",
    "print(\"Mathematical symbols: ∑, ∫, √\")  # U+2211, U+222B, U+221A\n",
    "print(\"Greek letters: Ω, α, β\")  # U+03A9, U+03B1, U+03B2\n",
    "print('\\U0001f334') # This is the emoji code point. \n",
    "print(b'\\U0001f334') # This is what happens when you print it as a 'bytestring'\n",
    "print('🌴') # You can print emoji directly\n",
    "print('🌴' in 'Yeah, great job! 🌴')"
   ]
  },
  {
   "cell_type": "markdown",
   "metadata": {},
   "source": [
    "What is going on with the last example here?"
   ]
  },
  {
   "cell_type": "markdown",
   "metadata": {},
   "source": [
    "### Section 2.5: String manipulation\n",
    "\n",
    "It is critical to note that as opposed to other languages, strings are [indexed starting from 0](https://www.cs.utexas.edu/users/EWD/transcriptions/EWD08xx/EWD831.html) and work sequentially forward. So in the string: \"python is the best\", there is an 'p' as the 0th element and an 'n' as the 5th."
   ]
  },
  {
   "cell_type": "code",
   "execution_count": null,
   "metadata": {},
   "outputs": [],
   "source": [
    "variable = \"python is the best\"\n",
    "print(variable[0], variable[1], variable[2],\n",
    "     variable[3], variable[4], variable[5])\n",
    "print(variable[10])"
   ]
  },
  {
   "cell_type": "markdown",
   "metadata": {},
   "source": [
    "The above hopefully shows us that a string is really just a list of characters (as in a series of characters that one would string together)."
   ]
  },
  {
   "cell_type": "markdown",
   "metadata": {},
   "source": [
    "#### Section 2.5.1 Zero Indexing"
   ]
  },
  {
   "cell_type": "markdown",
   "metadata": {},
   "source": [
    "Zero indexing in programming starts counting elements from 0 rather than 1. Python uses zero indexing for consistency with C and other languages, aligning well with memory addressing and simplifying operations like array access and iteration. This convention ensures compatibility and efficiency in programming practices."
   ]
  },
  {
   "cell_type": "markdown",
   "metadata": {},
   "source": [
    "Can you print out the 'b' from this variable? Can you think of a shortcut to do it?"
   ]
  },
  {
   "cell_type": "code",
   "execution_count": null,
   "metadata": {},
   "outputs": [],
   "source": [
    "print(variable.find('b'))"
   ]
  },
  {
   "cell_type": "code",
   "execution_count": null,
   "metadata": {},
   "outputs": [],
   "source": [
    "print(variable.isalnum())"
   ]
  },
  {
   "cell_type": "markdown",
   "metadata": {},
   "source": [
    "#### Section 2.5.2 Standard String Methods"
   ]
  },
  {
   "cell_type": "markdown",
   "metadata": {},
   "source": [
    "Lets look at some standard string **methods** (a method is 'attached' to an object):\n",
    "\n",
    "* upper: change to upper case\n",
    "* lower: change to lower case\n",
    "* title (capitalize): change to title case\n",
    "* find: return index of first instance of input\n",
    "* isalnum: is this string alphanumeric?\n",
    "* isalpha: is this string just letters?\n",
    "* replace: find all instances of something and change to something else\n",
    "* strip: remove whitespace characters from a string (useful when reading in from a file)\n",
    "\n",
    "The period [.] is used to link the object to the **method**. So if we have a string object:\n",
    "\n",
    "\"This is an object\"\n",
    "\n",
    "And we attach the 'upper' method like so:\n",
    "\n",
    "\"This is an object\".upper()\n",
    "\n",
    "Note that some methods take **arguments**!\n",
    "\n",
    "Try it below using ```SomeVar``` from above:"
   ]
  },
  {
   "cell_type": "code",
   "execution_count": null,
   "metadata": {},
   "outputs": [],
   "source": [
    "print(SomeVar)\n",
    "print(SomeVar.upper())\n",
    "print(SomeVar.lower())\n",
    "print(SomeVar.title())\n",
    "print(SomeVar.find('i'))\n",
    "print(SomeVar.isalnum())\n",
    "print(SomeVar.isalpha())\n",
    "print(SomeVar.replace(' is ',' is not ').replace('a string', 'a banana')) #we can 'chain' methods together!\n",
    "print(SomeVar.strip(' '))"
   ]
  },
  {
   "cell_type": "markdown",
   "metadata": {},
   "source": [
    "We can also get help on specific methods using a syntax such as ```help(somevar.title)``` (similar to Stata). We can also get a list of all methods associated with an object using ```dir(object)```. To determine the *type* of object, we can utilize ```type(object)```, and to get detailed help on any object or method ```help(object)```. Lets try a couple out:"
   ]
  },
  {
   "cell_type": "code",
   "execution_count": null,
   "metadata": {},
   "outputs": [],
   "source": [
    "type(SomeVar)"
   ]
  },
  {
   "cell_type": "code",
   "execution_count": null,
   "metadata": {},
   "outputs": [],
   "source": [
    "dir(SomeVar)"
   ]
  },
  {
   "cell_type": "code",
   "execution_count": null,
   "metadata": {},
   "outputs": [],
   "source": [
    "help(str)"
   ]
  },
  {
   "cell_type": "markdown",
   "metadata": {},
   "source": [
    "### Section 2.6: Special Characters\n",
    "\n",
    "What if we need to print a quotation character inside a string that uses quotes? Introducing the **escape character**! The escape character is the backslash: in order to print a quotation rather than use it to end the string, you would type:\n",
    "```python\n",
    "\"Escaping a \\\" in a string\"\n",
    "```\n",
    "However, sometimes you can sidestep this by using a different quotation type within the string itself:\n",
    "```python\n",
    "\"This will 'work'.\"\n",
    "'This will also \"work\".'\n",
    "'''This will work for both \" and ' types.'''\n",
    "```\n",
    "The triple quote is used for block quotes, where you can just keep writing across lines. Lets try it out, and escape the escape character also (with a newline thrown in for good measure):"
   ]
  },
  {
   "cell_type": "code",
   "execution_count": null,
   "metadata": {},
   "outputs": [],
   "source": [
    "print('This will also \"work\".')\n",
    "print(\"If you haven't inserted \\\\ characters\\nThis will be \\\"totally\\\" broken\")"
   ]
  },
  {
   "cell_type": "markdown",
   "metadata": {},
   "source": [
    "### Section 2.7: Combining strings\n",
    "\n",
    "Imagine you have two words that you wish to add together, such as 'Data' and 'Science'. There are several ways to do this.\n",
    "\n",
    "#### Section 2.7.1: Concatenation\n",
    "\n",
    "In python the + symbol means **concatenate** when it appears between two strings. This is the simplest way to combine two strings. Here are some ways to concatenate. Try them out, but dont forget the whitespace if necessary:"
   ]
  },
  {
   "cell_type": "code",
   "execution_count": null,
   "metadata": {},
   "outputs": [],
   "source": [
    "var1 = \"Steak\"\n",
    "var2 = \" or. \"\n",
    "var3 = \"Fish?\"\n",
    "print(var1 + var2 + var3)\n",
    "print(type(var1+var2+var3))"
   ]
  },
  {
   "cell_type": "markdown",
   "metadata": {},
   "source": [
    "Note that the + symbol is used for both addition *and* concatenation. So be careful, if you mix strings and numbers python will throw a **traceback** (try ```print(1 + '2')```...: what do you get?)\n",
    "\n",
    "To make a number into a string, you can use the string function (```str()```)"
   ]
  },
  {
   "cell_type": "code",
   "execution_count": null,
   "metadata": {},
   "outputs": [],
   "source": [
    "num = 123\n",
    "strNum = str(num)\n",
    "print(strNum)"
   ]
  },
  {
   "cell_type": "markdown",
   "metadata": {},
   "source": [
    "#### Section 2.7.2: Insertion\n",
    "\n",
    "Sometimes you want to insert something in the middle of a statement but don't want to merely concatenate. Maybe you have a collection of things and want to insert them in a lot of places. The bonus is that you can also print digits really nicely this way."
   ]
  },
  {
   "cell_type": "code",
   "execution_count": null,
   "metadata": {},
   "outputs": [],
   "source": [
    "print(\"Pi to two decimal points is %1.2f. Isn't that convenient?\" % 3.1456)"
   ]
  },
  {
   "cell_type": "markdown",
   "metadata": {},
   "source": [
    "Another way to do this is by using 'f-strings':"
   ]
  },
  {
   "cell_type": "code",
   "execution_count": null,
   "metadata": {},
   "outputs": [],
   "source": [
    "print(f\"Pi to two decimal points is {3.1456}. Isn't that convenient?\")"
   ]
  },
  {
   "cell_type": "markdown",
   "metadata": {},
   "source": [
    "#### Section 2.7.3: Joining\n",
    "\n",
    "Sometimes you want to join strings together with a specific seperator:"
   ]
  },
  {
   "cell_type": "code",
   "execution_count": null,
   "metadata": {},
   "outputs": [],
   "source": [
    "\";\".join([\"I want to\",\" join this together\"])"
   ]
  },
  {
   "cell_type": "markdown",
   "metadata": {},
   "source": [
    "More commonly, you want to join a list of words on whitespace to make a sentence: ```' '.join(list)```. We'll learn a lot more about lists in the future.\n",
    "\n",
    "#### Section 2.7.4: Splitting\n",
    "\n",
    "If you can join strings together, you can also split them (into a **list**: see Section 3.1 below -- this will be our first **collection**)! This is crucial for data cleaning, especially with _free text_ like social media data. The default way to split the data is using the whitespace character, but we can also split on specific substrings:"
   ]
  },
  {
   "cell_type": "code",
   "execution_count": null,
   "metadata": {},
   "outputs": [],
   "source": [
    "BigChunk = 'Lets split this into chunks'\n",
    "print(BigChunk.split(' '))\n",
    "print(type(BigChunk.split(' ')))"
   ]
  },
  {
   "cell_type": "markdown",
   "metadata": {},
   "source": [
    "### Section 2.8.: Your turn!\n",
    "\n",
    "Write two strings. One should be about your favourite food, and one should be about your favourite drink. Join them together in any way that you like."
   ]
  },
  {
   "cell_type": "markdown",
   "metadata": {},
   "source": [
    "## Section 3: Collections\n",
    "\n",
    "Virtually every programming language has a notion of a collection. A collection is a means for referring to one or more things at the same time, and Python has many collection types (note: a string can be thought of as a joined up list of characters). In general, collections are **iterable**, which means that you can ask for each item in the collection one-by-one. But beyond that they vary quite dramatically. Here are the major collection *types* that you will come across in Python:"
   ]
  },
  {
   "cell_type": "markdown",
   "metadata": {},
   "source": [
    "### Section 3.1: Lists\n",
    "\n",
    "A list is a sequential (the order is relevant), zero-indexed (first item is indexed at 0, just as with strings) and *mutable* (you can add or delete elements) collection signified by ```[... , ...]``` (we saw this above with the split). Lets make and play around with a list:"
   ]
  },
  {
   "cell_type": "code",
   "execution_count": null,
   "metadata": {},
   "outputs": [],
   "source": [
    "my_research_interests = [\"computer science\", \"economics\", \"social science\"]\n",
    "print('My first and third favourite interests are: ' +\n",
    "      my_research_interests[0] + # Note how we're breaking the lines here!\n",
    "      ' and ' +\n",
    "      my_research_interests[2])"
   ]
  },
  {
   "cell_type": "markdown",
   "metadata": {},
   "source": [
    "Importantly, we can also append onto lists:"
   ]
  },
  {
   "cell_type": "code",
   "execution_count": null,
   "metadata": {},
   "outputs": [],
   "source": [
    "my_research_interests.append(\"data science\")\n",
    "print(my_research_interests)"
   ]
  },
  {
   "cell_type": "markdown",
   "metadata": {},
   "source": [
    "### Section 3.2: Tuples\n",
    "\n",
    "A tuple is a sequential, zero-indexed and *immutable* collection signified by ```(... , ...)```: a list you can't change. It's denoted by parentheses rather than square brackets. They are used in lots of places where you don't want a list to change size or you want your object operations to be faster than with a list:\n",
    "\n",
    "```python\n",
    "my_research_interests = (\"computer science\", \"economics\", \"social science\")\n",
    "```\n",
    "\n",
    "Can you see the similarity with a list? What is different?"
   ]
  },
  {
   "cell_type": "markdown",
   "metadata": {},
   "source": [
    "#### Section 3.1.2: Querying and Slicing Lists/Tuples \n",
    "\n",
    "You can index a list just like a string, and just like strings, you can ask for a range of values (a 'slice') using a colon (although if you run out of range, you will get an error):\n",
    "\n",
    "```python\n",
    "my_research_interests[0:2]\n",
    "```\n",
    "\n",
    "Note here that the return is a list. If we want a specific string, we can index the new list:\n",
    "\n",
    "```python\n",
    "my_research_interests[0:2][0]\n",
    "```\n",
    "Can you figure out how to get a specific character from that string, all in one operation?"
   ]
  },
  {
   "cell_type": "markdown",
   "metadata": {},
   "source": [
    "You can also index from the end of the list/tuple/string to 'walk backwards'. This is done with negative numbers:\n",
    "\n",
    "```python\n",
    "my_favourite_sociology_subdisciplines[-1]\n",
    "```"
   ]
  },
  {
   "cell_type": "markdown",
   "metadata": {},
   "source": [
    "### 3.3: Dictionaries\n",
    "\n",
    "A dictionary is an unordered, key-indexed and mutable collection signified by ```{... : ... , ... : ... }```. Like in English, where a dictionary defines a word, a dictionary in Python uses a key to fetch a value. Here, the term we use is `key-value' pairs:\n",
    "\n",
    "```python\n",
    "FamousSociologists = {\"Marx\":\"1\",\"Weber\":\"2\", \"Durkheim\":\"3\"}\n",
    "```"
   ]
  },
  {
   "cell_type": "code",
   "execution_count": null,
   "metadata": {},
   "outputs": [],
   "source": [
    "FamousSociologists = {\"Marx\":\"1\", \"Weber\":\"2\", \"Durkheim\":\"3\"}\n",
    "FamousSociologists['C. Wright Mills']=\"4\" #add a new key:value pair 'on the fly'\n",
    "\n",
    "print(FamousSociologists.keys())\n",
    "print(FamousSociologists.values())\n",
    "print(FamousSociologists.items())\n",
    "print(FamousSociologists['Weber'])"
   ]
  },
  {
   "cell_type": "markdown",
   "metadata": {},
   "source": [
    "Lets set up a dictionary of food names and types to show that we can **nest** collections:"
   ]
  },
  {
   "cell_type": "code",
   "execution_count": null,
   "metadata": {},
   "outputs": [],
   "source": [
    "food = {\n",
    "    \"Tofu\": \"Delicious\",\n",
    "    \"Fruit\": \"Healthy\",\n",
    "    \"Water\": [\"Healthy\", \"Not delicious\"],\n",
    "}\n",
    "food[\"Water\"]"
   ]
  },
  {
   "cell_type": "markdown",
   "metadata": {},
   "source": [
    "Note: this principle is largely how the .json data format works. JSON (JavaScript Object Notation) is a lightweight data-interchange format. It uses key-value pairs to represent data, organized in a readable and easy-to-parse format. JSON supports nested structures, arrays, and various data types like strings, numbers, booleans, and null, making it widely used for transmitting and storing structured data."
   ]
  },
  {
   "cell_type": "markdown",
   "metadata": {},
   "source": [
    "### Section 3.4: Advanced List Operations\n",
    "\n",
    "#### 3.4.1. Slicing of lists\n",
    "\n",
    "We can do more than simply query a list by its index. And also, indices can be negative numbers as well. When we use negative numbers we are indexing the list from the end, rather than the front (we briefly saw this last week). We can also ask for a part of a list in a range. This is called 'slicing'. Finally, if we are working with characters, we can chop up a string into a list, or take a list and join it together as a string. You can index a list using the []. To slice a list, you would use the : inside the []. Lets try an example where we get a single indexed return and a slice:"
   ]
  },
  {
   "cell_type": "code",
   "execution_count": null,
   "metadata": {},
   "outputs": [],
   "source": [
    "mylist = ['sociology', 'economics', 'political science', 'social policy']\n",
    "print(mylist[2:4])"
   ]
  },
  {
   "cell_type": "markdown",
   "metadata": {},
   "source": [
    "What happens if we try and call an index not in the range of the list? i.e. ```print(mylist[6])``` ?\n",
    "\n",
    "Now you try: define your own list (it can be as long as you like) and index and slice it in various ways. Note, we index and split strings in exactly the same way as we do lists:"
   ]
  },
  {
   "cell_type": "code",
   "execution_count": null,
   "metadata": {},
   "outputs": [],
   "source": [
    "FoodString = 'Tofu is the most delicious food.'\n",
    "print(FoodString[:4])\n",
    "print(FoodString[17:26])\n",
    "print(FoodString[12:26])"
   ]
  },
  {
   "cell_type": "markdown",
   "metadata": {},
   "source": [
    "We can also find the position at which something occurs with the ```find``` method:"
   ]
  },
  {
   "cell_type": "code",
   "execution_count": null,
   "metadata": {},
   "outputs": [],
   "source": [
    "FoodString.find('Tofu')"
   ]
  },
  {
   "cell_type": "markdown",
   "metadata": {},
   "source": [
    "#### 3.4.1. Splitting lists\n",
    "\n",
    "Strings are just a special kind of list that only includes characters. We can query and slice strings the way we do lists. We can also alternate between strings and lists using ```.split()``` and ```.joint()```, i.e.:"
   ]
  },
  {
   "cell_type": "code",
   "execution_count": null,
   "metadata": {},
   "outputs": [],
   "source": [
    "oldstring = 'History repeats itself,\\n' + \\\n",
    "            'first as tragedy,\\n' + \\\n",
    "            'second as farce.'\n",
    "newlist = oldstring.split(' ')\n",
    "print(newlist)\n",
    "newstring = ' '.join(newlist)\n",
    "print('\\n\\n' + newstring)"
   ]
  },
  {
   "cell_type": "markdown",
   "metadata": {},
   "source": [
    "Note again how we are breaking lines (Pep-8). We can also re-join a split string!\n",
    "\n",
    "Here (below) we are splitting the string on the '.', and re-joining them with ' '."
   ]
  },
  {
   "cell_type": "code",
   "execution_count": null,
   "metadata": {},
   "outputs": [],
   "source": [
    "iwanttobreakfree = \"I.want.to.break.free.\"\n",
    "print(iwanttobreakfree)\n",
    "godknows=iwanttobreakfree.split('.')\n",
    "print(godknows)\n",
    "godknowsiwanttobreakfree=\" \".join(godknows)\n",
    "print(godknowsiwanttobreakfree)"
   ]
  },
  {
   "cell_type": "markdown",
   "metadata": {},
   "source": [
    "[Note: why are these variable names 'bad'?]"
   ]
  },
  {
   "cell_type": "markdown",
   "metadata": {},
   "source": [
    "What happens if we don't respect the case?\n",
    "\n",
    "```python\n",
    "FoodString.find('tofu')\n",
    "```"
   ]
  },
  {
   "cell_type": "markdown",
   "metadata": {},
   "source": [
    "### Section 3.5.: Your turn!\n",
    "\n",
    "Build a dictionary which contains -- as keys -- your favourite foods. As values, put an ordinal ranking of them. Appreciate the object types that you're working with!"
   ]
  },
  {
   "cell_type": "markdown",
   "metadata": {},
   "source": [
    "## Optional Homework:\n",
    "\n",
    "What is a set? Is it ordered, mutable, etc? What benefits does it provide over a list, tuple or dictionary? What about if there are duplicates in the set? Sets will also feature at the start of (non-optional) Homework Two...\n",
    "\n",
    "What code within this notebook complies with [pep-8](https://www.python.org/dev/peps/pep-0008/)? What (deliberately...) does not?\n",
    "\n",
    "How is this different to the statistical software that you are more conventionally used to?\n",
    "\n",
    "\n",
    "## Non-Optional Homework!\n",
    "\n",
    "See Homework_One.ipynb in the 'Homeworks' section of the course materials! We will run our randomiser for the first time at the start of the following class."
   ]
  }
 ],
 "metadata": {
  "kernelspec": {
   "display_name": "Python 3 (ipykernel)",
   "language": "python",
   "name": "python3"
  },
  "language_info": {
   "codemirror_mode": {
    "name": "ipython",
    "version": 3
   },
   "file_extension": ".py",
   "mimetype": "text/x-python",
   "name": "python",
   "nbconvert_exporter": "python",
   "pygments_lexer": "ipython3",
   "version": "3.11.7"
  }
 },
 "nbformat": 4,
 "nbformat_minor": 4
}
