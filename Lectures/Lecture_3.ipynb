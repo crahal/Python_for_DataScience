{
 "cells": [
  {
   "cell_type": "markdown",
   "metadata": {},
   "source": [
    "#  Python for Economic and Social Data Science: Lecture Three\n",
    "\n",
    "### 17th July, 2024\n",
    "---\n",
    "\n",
    "Lets now run the homework randomiser again, where each randomly selected student will answer some of the homework questions!"
   ]
  },
  {
   "cell_type": "markdown",
   "metadata": {},
   "source": [
    "## Section 8: Pseudocode (An unrelated aside)\n",
    "\n",
    "Pseudocode is a common method which enables the programmer to plan without worrying about syntax and tracebacks, with a focus on the operations and methods. We can write down every step, including if conditions and loops, and fill it in a rough and ready fashion, using shortcuts where  we think appropriate. This allows us to ascertain what we do know how to do easily (which we can use shortcuts or shorthand for in the psuedocode), and what we still need to figure out. This skill of abstraction is essential to solving problems as a programmer! Note that psuedocode isnt meant to be ran. The more and more comfortable you become with programming in Python, the less you will need to write or use pseudocode.\n",
    "\n",
    "See below for an example:\n",
    "\n",
    "\n",
    "```python\n",
    "\n",
    "state my favourite number\n",
    "for 1 to 10\n",
    "    raise it to the power of 1 to 10 sequentially in a loop\n",
    "    print out the numbers\n",
    "```"
   ]
  },
  {
   "cell_type": "markdown",
   "metadata": {},
   "source": [
    "But by using all the tools we've learnt so far, we can easily expand this into _real_ code:"
   ]
  },
  {
   "cell_type": "code",
   "execution_count": 1,
   "metadata": {},
   "outputs": [
    {
     "name": "stdout",
     "output_type": "stream",
     "text": [
      "37\n",
      "1369\n",
      "50653\n",
      "1874161\n",
      "69343957\n",
      "2565726409\n",
      "94931877133\n",
      "3512479453921\n",
      "129961739795077\n",
      "4808584372417849\n",
      "177917621779460413\n",
      "6582952005840035281\n",
      "243569224216081305397\n",
      "9012061295995008299689\n",
      "333446267951815307088493\n",
      "12337511914217166362274241\n",
      "456487940826035155404146917\n",
      "16890053810563300749953435929\n",
      "624931990990842127748277129373\n"
     ]
    }
   ],
   "source": [
    "myfavnum=37\n",
    "for number in range(1,20):\n",
    "    answer=myfavnum**number\n",
    "    print(answer)"
   ]
  },
  {
   "cell_type": "markdown",
   "metadata": {},
   "source": [
    "## Section 9: Functions. \n",
    "\n",
    "### Section 9.1: Introduction to Functions\n",
    "\n",
    "Perhaps the most important concept that we will cover in this course is the notion of abstraction. To make something more abstract is to articulate or encode some phenomenon in a form that is less contingent or specific. If we can discern the commonalities between different cases, we can apply the same logic in a number of cases.\n",
    "\n",
    "The functional purpose of programming is typically to transform particular cases into more general ones. Instead of renaming every photo in a set of cat photos, we can append \"Cat_\" to all of them. In a broader sense, we are trying to automate or abstract tasks with computers in order to play to their strengths for speed and accuracy.\n",
    "\n",
    "When coding, we prefer abstraction because it gives code a number of advantages:\n",
    "\n",
    "* easier to re-use\n",
    "* more robust\n",
    "* more efficient for the coder.\n",
    "\n",
    "The primary way in which we employ abstraction in programming is the use of the function, f(x) = y. In this case x is some input, f() is a function that is applied to the input and y is the output. Here is a function in python:\n",
    "\n",
    "```python\n",
    "def greetings(): \n",
    "    print('hello world')\n",
    "```\n",
    "\n",
    "This function simply prints the greeting 'hello world'. Now every time we want to say hello world, we could just say greet() instead. It is hardly an improvement, but when you place many reusable lines of code together, then the benefits become obvious and the readability of code is increased substantially."
   ]
  },
  {
   "cell_type": "code",
   "execution_count": 2,
   "metadata": {},
   "outputs": [
    {
     "name": "stdout",
     "output_type": "stream",
     "text": [
      "Are you having a nice day today?\n",
      "I love Charlie's Python class!\n"
     ]
    }
   ],
   "source": [
    "def greet():\n",
    "    print('Are you having a nice day today?')\n",
    "    print('I love Charlie\\'s Python class!')\n",
    "\n",
    "greet()"
   ]
  },
  {
   "cell_type": "markdown",
   "metadata": {},
   "source": [
    "Critically, functions can also take an **input**, operate on it, and then return the result:"
   ]
  },
  {
   "cell_type": "code",
   "execution_count": 3,
   "metadata": {},
   "outputs": [
    {
     "name": "stdout",
     "output_type": "stream",
     "text": [
      "4\n"
     ]
    }
   ],
   "source": [
    "def doubleme(input):\n",
    "    doublednumber=input*2\n",
    "    # greet()\n",
    "    return doublednumber\n",
    "\n",
    "print(doubleme(2))"
   ]
  },
  {
   "cell_type": "markdown",
   "metadata": {},
   "source": [
    "What's going to happen if we comment out the greet() **function call** above?"
   ]
  },
  {
   "cell_type": "markdown",
   "metadata": {},
   "source": [
    "Lets try some more functions as examples, including a try except.\n",
    "\n",
    "First, take a function which accepts strings as inputs:"
   ]
  },
  {
   "cell_type": "code",
   "execution_count": 4,
   "metadata": {},
   "outputs": [
    {
     "name": "stdout",
     "output_type": "stream",
     "text": [
      "My favourite colour is green\n"
     ]
    }
   ],
   "source": [
    "def favouritecolour(colour):\n",
    "    print('My favourite colour is ' + colour)\n",
    "    \n",
    "favouritecolour('green')"
   ]
  },
  {
   "cell_type": "markdown",
   "metadata": {},
   "source": [
    "What about if somebody tries to input a number into a function which only accepts strings? Try and except to the rescue!"
   ]
  },
  {
   "cell_type": "code",
   "execution_count": 5,
   "metadata": {},
   "outputs": [
    {
     "name": "stdout",
     "output_type": "stream",
     "text": [
      "My favourite colour is green\n"
     ]
    }
   ],
   "source": [
    "def favouritecolour(colour):\n",
    "    try:\n",
    "        print('My favourite colour is ' + colour)\n",
    "    except TypeError:\n",
    "        print('That cant possibly be a colour...')\n",
    "\n",
    "favouritecolour('green')"
   ]
  },
  {
   "cell_type": "code",
   "execution_count": 6,
   "metadata": {},
   "outputs": [
    {
     "name": "stdout",
     "output_type": "stream",
     "text": [
      "That cant possibly be a colour...\n"
     ]
    }
   ],
   "source": [
    "favouritecolour(5)"
   ]
  },
  {
   "cell_type": "markdown",
   "metadata": {},
   "source": [
    "### Section 9.2: Passing variables around\n",
    "\n",
    "Parameters to functions are passed by **reference**, not as copies. This means that objects that get modified (specifically here -- reassigned) in the function are permanently changed. See this below example for further exposition:"
   ]
  },
  {
   "cell_type": "code",
   "execution_count": 7,
   "metadata": {},
   "outputs": [
    {
     "name": "stdout",
     "output_type": "stream",
     "text": [
      "The list before it was sorted: [7, 10, 1, 15, 2, 4]\n",
      "\n",
      "The list after it was sorted: [1, 2, 4, 7, 10, 15]\n"
     ]
    }
   ],
   "source": [
    "def list_sorter(listIn):\n",
    "    listIn.sort() \n",
    "    return listIn\n",
    "\n",
    "mylist = [7, 10, 1, 15, 2, 4]\n",
    "\n",
    "print(\"The list before it was sorted:\", mylist)\n",
    "\n",
    "result = list_sorter(mylist)\n",
    "\n",
    "print(\"\\nThe list after it was sorted:\", result)"
   ]
  },
  {
   "cell_type": "markdown",
   "metadata": {},
   "source": [
    "### Section 9.3. Global vs local variables\n",
    "\n",
    "In python, variables are local if not otherwise declared. This means that when you define variables inside a function indentation, they are `local` to this function by default. While this topic is slightly more advanced and beyond the scope of this module, consider the following: "
   ]
  },
  {
   "cell_type": "code",
   "execution_count": 8,
   "metadata": {},
   "outputs": [
    {
     "name": "stdout",
     "output_type": "stream",
     "text": [
      "Tofu is my favourite food!\n",
      "But 538 isnt the same after Harry Enton left\n",
      "Tofu is my favourite food!\n"
     ]
    }
   ],
   "source": [
    "def my_favourite_food(a_random_statement):\n",
    "    print(a_random_statement)\n",
    "    a_random_statement = \"But 538 isnt the same after Harry Enton left\"\n",
    "    print(a_random_statement)\n",
    "\n",
    "a_random_statement = \"Tofu is my favourite food!\"        \n",
    "my_favourite_food(a_random_statement)\n",
    "print(a_random_statement)"
   ]
  },
  {
   "cell_type": "markdown",
   "metadata": {},
   "source": [
    "### Section 9.4: Abstraction\n",
    "\n",
    "Functions are most useful when we want to solve a repetitive task efficiently. However, there is a challenge: how do we make the functions general enough, but not too general? So far, we havent seen functions take or return more than one input or output:                 "
   ]
  },
  {
   "cell_type": "code",
   "execution_count": 9,
   "metadata": {},
   "outputs": [
    {
     "data": {
      "text/plain": [
       "(10, 25)"
      ]
     },
     "execution_count": 9,
     "metadata": {},
     "output_type": "execute_result"
    }
   ],
   "source": [
    "def two_outputs(a):\n",
    "    b=a+a\n",
    "    c=a*a\n",
    "    return b, c\n",
    "\n",
    "two_outputs(5)"
   ]
  },
  {
   "cell_type": "markdown",
   "metadata": {},
   "source": [
    "Importantly, we can also assign function outputs:"
   ]
  },
  {
   "cell_type": "code",
   "execution_count": 10,
   "metadata": {},
   "outputs": [
    {
     "name": "stdout",
     "output_type": "stream",
     "text": [
      "10 25\n"
     ]
    }
   ],
   "source": [
    "def two_outputs(a):\n",
    "    b=a+a\n",
    "    c=a*a\n",
    "    return b, c\n",
    "\n",
    "b, c = two_outputs(5)\n",
    "print(b, c)"
   ]
  },
  {
   "cell_type": "markdown",
   "metadata": {},
   "source": [
    "And, similarly, we can assign something with two inputs, one output:"
   ]
  },
  {
   "cell_type": "code",
   "execution_count": 11,
   "metadata": {},
   "outputs": [
    {
     "name": "stdout",
     "output_type": "stream",
     "text": [
      "(10, 25)\n"
     ]
    }
   ],
   "source": [
    "def two_inputs(a, b):\n",
    "    return a*b # note how we can return directly, without assignment to c inside\n",
    "\n",
    "b = two_outputs(5)\n",
    "print(b)"
   ]
  },
  {
   "cell_type": "markdown",
   "metadata": {},
   "source": [
    "You can also declare default function inputs, for example like:\n",
    "\n",
    "```python\n",
    "def two_inputs(input1=\"burger\", input2 = cheeseburger):\n",
    "    return input1 + input2\n",
    "\n",
    "print(two_inputs(\"cheese\",\"sandwich\"))\n",
    "```"
   ]
  },
  {
   "cell_type": "markdown",
   "metadata": {},
   "source": [
    "### Section 9.5 Your turn!\n",
    "\n",
    "Python doesn't like it when the first argument into a function has a default value, and the second one doesn't. Try this yourself, and try to understand the error."
   ]
  },
  {
   "cell_type": "markdown",
   "metadata": {},
   "source": [
    "## Section 10: Reading, Writing and Appending Files\n",
    "\n",
    "### Section 10.1 Reading\n",
    "\n",
    "File manipulation is central to the management of data and thus to data analysis. Opening files in python is relatively straightforward. To open a file in python we create a 'file handler'. There are a couple ways of doing this. Most involve the basic format of:\n",
    "\n",
    "```python\n",
    "filein/fileout = open(\"PATH_TO_FILE\",'r'/'w'/'a')\n",
    "```"
   ]
  },
  {
   "cell_type": "markdown",
   "metadata": {},
   "source": [
    "```filein.close()``` closes the file after the operations are complete: it's a good habbit to always close files!"
   ]
  },
  {
   "cell_type": "code",
   "execution_count": 12,
   "metadata": {},
   "outputs": [
    {
     "name": "stdout",
     "output_type": "stream",
     "text": [
      "# Python_for_DataScience\n",
      "\n",
      "<p align=\"center\">\n",
      "<img src=\"./assets/python_logo.png\" width=\"200\"/>&nbsp; &nbsp; &nbsp;<img src=\"./assets/python_logo.png\" width=\"200\"/>&nbsp; &nbsp; &nbsp;<img src=\"./assets/python_logo.png\" width=\"200\"/>\n",
      "</p>\n",
      "\n",
      "## :page_facing_up: # Python for Economic and Social Data Science  :page_facing_up:\n",
      "\n",
      "![coverage](https://img.shields.io/badge/Teaching-yellow)\n",
      "[![Generic badge](https://img.shields.io/badge/Python-blue.svg)](https://shields.io/)\n",
      "[![Generic badge](https://img.shields.io/badge/GNU3.0-purple.svg)](https://shields.io/)\n",
      "[![Generic badge](https://img.shields.io/badge/Maintained-brightgreen.svg)](https://shields.io/)\n",
      "[![Generic badge](https://img.shields.io/badge/BuildPassing-orange.svg)](https://shields.io/)\n",
      "---\n",
      "\n",
      "### Introduction\n",
      "Welcome to the 'Python for Economic and Social Data Science' class! This GitHub repository contains everything that we'll need for about ~20 hours of lectures. This course begins by assuming absolutely no knowledge of what Python is or can do, and hopefully ends with us being able to read data from the web, load it into data frame, visualise, and model it. The background of the class will determine how quickly we go. Please star this repository on GitHub if you are taking the class!\n",
      "\n",
      "### Prearrival\n",
      "\n"
     ]
    }
   ],
   "source": [
    "# Open a file and read it line by line:\n",
    "filein = open(\"../README.md\",'r') # What does the '..' mean?\n",
    "counter = 0\n",
    "for i in filein: \n",
    "    if counter < 20:\n",
    "        print(i.strip())\n",
    "        counter += 1\n",
    "filein.close()"
   ]
  },
  {
   "cell_type": "markdown",
   "metadata": {},
   "source": [
    "One way to guarantee that the file closes is to open it in the following way:\n",
    "\n",
    "```python\n",
    "with open(\"readme.md\") as filein:\n",
    "    print(filein.read())\n",
    "```\n",
    "\n",
    "Note that the line by line method might be more suitable if we are dealing with very, very large files."
   ]
  },
  {
   "cell_type": "markdown",
   "metadata": {},
   "source": [
    "### Section 10.2: Writing Files\n",
    "\n",
    "Writing files is very similar to how you read them. However, you need to notice the 'w' (for 'write' parameter in the open() function). This generally replaces the 'r' in Section 10.1 above. Lets save this text as data to a csv file a text file, and then read it in and print it line by line:"
   ]
  },
  {
   "cell_type": "code",
   "execution_count": 13,
   "metadata": {},
   "outputs": [],
   "source": [
    "abc = open(\"../Data/data_write.csv\",'w')\n",
    "abc.write('hi, this, is, a, csv, with, some, data')\n",
    "abc.close()"
   ]
  },
  {
   "cell_type": "code",
   "execution_count": 14,
   "metadata": {},
   "outputs": [
    {
     "name": "stdout",
     "output_type": "stream",
     "text": [
      "hi, this, is, a, csv, with, some, data\n"
     ]
    }
   ],
   "source": [
    "filein = open(\"../Data/data_write.csv\",'r')\n",
    "for i in filein: \n",
    "    print(i.strip())\n",
    "filein.close()"
   ]
  },
  {
   "cell_type": "markdown",
   "metadata": {},
   "source": [
    "Or you can write multiple times, adding to the end of the file.\n",
    "\n",
    "See this example where we might be iterating over all of the tweets in our twitter database:\n",
    "\n",
    "```python\n",
    "with open(\"donaldstweets.txt\",'w') as fileout:\n",
    "    for tweet in twitter_database:\n",
    "        if \"@therealdonald\" in tweet:\n",
    "            newtweet=functioncall(tweet)\n",
    "            fileout.write(newtweet)\n",
    "```"
   ]
  },
  {
   "cell_type": "markdown",
   "metadata": {},
   "source": [
    "### Section 10.3: Appending to Files\n",
    "\n",
    "Appending to files is very similar to how you write them. However, you need to notice the 'a' (for 'append' parameter in the open() function). This generally replaces the 'r'/'w' in Sections 10.1-10.2 above. Lets append to our earlier file, and then read it line by line:"
   ]
  },
  {
   "cell_type": "code",
   "execution_count": 15,
   "metadata": {},
   "outputs": [],
   "source": [
    "abc = open(\"../Data/data_write.csv\",'a')\n",
    "abc.write('\\neven, more, data, now, in, this, csv, file')\n",
    "abc.close()"
   ]
  },
  {
   "cell_type": "code",
   "execution_count": 16,
   "metadata": {},
   "outputs": [
    {
     "name": "stdout",
     "output_type": "stream",
     "text": [
      "hi, this, is, a, csv, with, some, data\n",
      "even, more, data, now, in, this, csv, file\n"
     ]
    }
   ],
   "source": [
    "filein = open(\"../Data/data_write.csv\",'r')\n",
    "for i in filein: \n",
    "    print(i.strip())\n",
    "filein.close()"
   ]
  },
  {
   "cell_type": "markdown",
   "metadata": {},
   "source": [
    "### Section 10.4 Your turn!\n",
    "\n",
    "Write _any_ new file to any part of your file system. Can you read it back in successfully? If this is too easy, can you next append something to the file?"
   ]
  },
  {
   "cell_type": "markdown",
   "metadata": {},
   "source": [
    "## Section 11: Programming outside Jupyter \n",
    "\n",
    "There are two main options when it comes to writing code outside of Jupyter notebooks. \n",
    "\n",
    "### Section 11.1: Integrated Development Environments.\n",
    "\n",
    "IDEs are coding tools which allow you to write/test/debug your code. They offer features such as completion/insight by highlighting, resource management, debugging tools, etc. They are therefore extremely useful for development. Some of the most commonly used ones are:\n",
    "\n",
    "1. Spyder: bundled with the Anaconda distribution, built specifically for data science. Interface similar to RStudio/MATLAB\n",
    "2. PyCharm: also has support for JavaScript, HTML/CSS, Angular JS, Node.js, etc. Full git integration.\n",
    "3. Rodeo: *very* similar to RStudio: divided into text editor, console, environment plot/libraries/files.\n",
    "\n",
    "### Section 11.2: Text editors\n",
    "\n",
    "Another option is to use a text editor and then execute the .py files in the command prompt/terminal. This comes in two steps:\n",
    "\n",
    "1. Edit code in a text editor (*strongly recommend Atom*)\n",
    "2. Open command window/terminal (Start > Run > \"cmd\" on Windows, Terminal on Mac/Liunux)\n",
    "\n",
    "### Section 11.3: Consoles\n",
    "\n",
    "You can also use the command window/terminal to prototype code on the fly:\n",
    "\n",
    "    > python"
   ]
  },
  {
   "cell_type": "markdown",
   "metadata": {},
   "source": [
    "### Section 11.4 Your turn!\n",
    "\n",
    "What are your favourite IDEs or text editors? Why? How does this way of working relate to Stata, Eviews, and MATLAB?"
   ]
  },
  {
   "cell_type": "markdown",
   "metadata": {},
   "source": [
    "## Section 12: Numpy\n",
    "\n",
    "We've spent the majority of the first three lessons talking about the 'standard library'.\n",
    "\n",
    "**The standard library:** Python’s standard library is very extensive, offering a wide range of facilities as indicated by the long table of contents listed below. The library contains built-in modules (written in C) that provide access to system functionality such as file I/O that would otherwise be inaccessible to Python programmers, as well as modules written in Python that provide standardized solutions for many problems that occur in everyday programming. Some of these modules are explicitly designed to encourage and enhance the portability of Python programs by abstracting away platform-specifics into platform-neutral APIs.\n",
    "\n",
    "However, the majority of tools which we need for practical data science come from libraries _outside_ of the standard library. We're now going to talk about the four main, very important ones, although note that we could have made alternative choices.\n",
    "\n",
    "Python is a general-purpose language and as such it can and it is widely used by system administrators for operating system administration, by web developpers as a tool to create dynamic websites and by linguists for natural language processing tasks. Being a truely general-purpose language, Python can of course - without using any special numerical modules - be used to solve numerical problems as well. So far so good, but the crux of the matter is the execution speed. Pure Python without any numerical modules couldn't be used for numerical tasks Matlab, R and other languages are designed for. If it comes to computational problem solving, it is of greatest importance to consider the performance of algorithms, both concerning speed and data usage. If we use Python in combination with its modules NumPy, Matplotlib, Pandas and more, it belongs to the top numerical programming languages. It is as efficient - if not even more efficient - than Matlab or R.\n",
    "\n",
    "Note, also, that you don't need to install any of these tools if you have installed the Anaconda distribution of Python: one of the main benefits of our installation of that is that it takes care of all the bundles of tools that we need as data scientists.\n",
    "\n",
    "NumPy is a module for Python. The name is an acronym for \"Numeric Python\" or \"Numerical Python\". It is pronounced /ˈnʌmpaɪ/ (NUM-py). It is an extension module for Python, mostly written in C. This makes sure that the precompiled mathematical and numerical functions and functionalities of Numpy guarantee great execution speed. Furthermore, NumPy enriches the programming language Python with powerful data structures, implementing multi-dimensional arrays and matrices. These data structures guarantee efficient calculations with matrices and arrays. The implementation is even aiming at huge matrices and arrays, better know under the heading of \"big data\". Besides that the module supplies a large library of high-level mathematical functions to operate on these matrices and arrays.\n",
    "\n",
    "Before we can use NumPy we will have to import it."
   ]
  },
  {
   "cell_type": "code",
   "execution_count": 17,
   "metadata": {},
   "outputs": [],
   "source": [
    "import numpy as np"
   ]
  },
  {
   "cell_type": "markdown",
   "metadata": {},
   "source": [
    "Our first simple Numpy example deals with temperatures. Given is a list with values, e.g. temperatures in\n",
    "Celsius:"
   ]
  },
  {
   "cell_type": "code",
   "execution_count": 18,
   "metadata": {},
   "outputs": [
    {
     "name": "stdout",
     "output_type": "stream",
     "text": [
      "[20.1, 20.8, 21.9, 22.5, 22.7, 22.3, 21.8, 21.2, 20.9, 20.1]\n"
     ]
    }
   ],
   "source": [
    "cvalues = [20.1, 20.8, 21.9, 22.5, 22.7, 22.3, 21.8, 21.2, 20.9, 20.1]\n",
    "print(cvalues)"
   ]
  },
  {
   "cell_type": "markdown",
   "metadata": {},
   "source": [
    "We will turn our list \"cvalues\" into a one-dimensional numpy array:"
   ]
  },
  {
   "cell_type": "code",
   "execution_count": 19,
   "metadata": {},
   "outputs": [
    {
     "name": "stdout",
     "output_type": "stream",
     "text": [
      "[20.1 20.8 21.9 22.5 22.7 22.3 21.8 21.2 20.9 20.1]\n"
     ]
    }
   ],
   "source": [
    "C = np.array(cvalues)\n",
    "print(C)"
   ]
  },
  {
   "cell_type": "markdown",
   "metadata": {},
   "source": [
    "These might look the same, but note that they are different object types:"
   ]
  },
  {
   "cell_type": "code",
   "execution_count": 20,
   "metadata": {},
   "outputs": [
    {
     "name": "stdout",
     "output_type": "stream",
     "text": [
      "<class 'numpy.ndarray'> <class 'list'>\n"
     ]
    }
   ],
   "source": [
    "print(type(C), type(cvalues))"
   ]
  },
  {
   "cell_type": "markdown",
   "metadata": {},
   "source": [
    "Let's assume, we want to turn the values into degrees Fahrenheit. This is very easy to accomplish with a\n",
    "numpy array. The solution to our problem can be achieved by simple scalar multiplication:"
   ]
  },
  {
   "cell_type": "code",
   "execution_count": 21,
   "metadata": {},
   "outputs": [
    {
     "name": "stdout",
     "output_type": "stream",
     "text": [
      "[68.18 69.44 71.42 72.5  72.86 72.14 71.24 70.16 69.62 68.18]\n"
     ]
    }
   ],
   "source": [
    "print(C * 9 / 5 + 32)"
   ]
  },
  {
   "cell_type": "markdown",
   "metadata": {},
   "source": [
    "Compared to this, the solution for our Python list looks awkward:"
   ]
  },
  {
   "cell_type": "code",
   "execution_count": 22,
   "metadata": {},
   "outputs": [
    {
     "name": "stdout",
     "output_type": "stream",
     "text": [
      "[68.18, 69.44, 71.42, 72.5, 72.86, 72.14, 71.24000000000001, 70.16, 69.62, 68.18]\n"
     ]
    }
   ],
   "source": [
    "fvalues = [x*9/5 + 32 for x in cvalues]\n",
    "print(fvalues)"
   ]
  },
  {
   "cell_type": "markdown",
   "metadata": {},
   "source": [
    "We can determine the size of the integers when we define an array. Needless to say, this changes the memory\n",
    "requirement:"
   ]
  },
  {
   "cell_type": "code",
   "execution_count": 23,
   "metadata": {},
   "outputs": [
    {
     "name": "stdout",
     "output_type": "stream",
     "text": [
      "115\n",
      "118\n",
      "124\n",
      "136\n"
     ]
    }
   ],
   "source": [
    "import sys\n",
    "\n",
    "a = np.array([24, 12, 57], np.int8)\n",
    "print(sys.getsizeof(a))\n",
    "a = np.array([24, 12, 57], np.int16)\n",
    "print(sys.getsizeof(a))\n",
    "a = np.array([24, 12, 57], np.int32)\n",
    "print(sys.getsizeof(a))\n",
    "a = np.array([24, 12, 57], np.int64)\n",
    "print(sys.getsizeof(a))"
   ]
  },
  {
   "cell_type": "markdown",
   "metadata": {},
   "source": [
    "### 12.1 Speed of numpy vs standard library\n",
    "\n",
    "Lets use two very simple but otherwise equivilent functions to compare the efficiency of pure python with numpy for a basic arthmetical task:"
   ]
  },
  {
   "cell_type": "code",
   "execution_count": 24,
   "metadata": {},
   "outputs": [
    {
     "name": "stdout",
     "output_type": "stream",
     "text": [
      "2.703886032104492 0.08404898643493652\n",
      "Numpy is in this example 32.17035858246319 faster!\n"
     ]
    }
   ],
   "source": [
    "import time\n",
    "\n",
    "\n",
    "def pure_python_version():\n",
    "    t1 = time.time()\n",
    "    X = range(size_of_vec)\n",
    "    Y = range(size_of_vec)\n",
    "    Z = [X[i] + Y[i] for i in range(len(X))]\n",
    "    return time.time() - t1\n",
    "\n",
    "def numpy_version():\n",
    "    t1 = time.time()\n",
    "    X = np.arange(size_of_vec)\n",
    "    Y = np.arange(size_of_vec)\n",
    "    Z = X + Y\n",
    "    return time.time() - t1\n",
    "\n",
    "size_of_vec = 10000000\n",
    "t1 = pure_python_version()\n",
    "t2 = numpy_version()\n",
    "print(t1, t2)\n",
    "print(\"Numpy is in this example \" + str(t1/t2) + \" faster!\")"
   ]
  },
  {
   "cell_type": "markdown",
   "metadata": {},
   "source": [
    "### 12.2 Evenly spaced values\n",
    "\n",
    "The syntax of arange: ```arange([start,] stop[, step], [, dtype=None])``` arange returns evenly spaced values within a given interval. The values are generated within the half-open\n",
    "interval '[start, stop)' If the function is used with integers, it is nearly equivalent to the Python built-in function\n",
    "range, but arange returns an ndarray rather than a list iterator as range does. If the 'start' parameter is not given,\n",
    "it will be set to 0. The end of the interval is determined by the parameter 'stop The default value for 'step' is 1."
   ]
  },
  {
   "cell_type": "code",
   "execution_count": 25,
   "metadata": {},
   "outputs": [
    {
     "name": "stdout",
     "output_type": "stream",
     "text": [
      "[ 0.  1.  2.  3.  4.  5.  6.  7.  8.  9. 10.]\n",
      "[ 0.5  1.3  2.1  2.9  3.7  4.5  5.3  6.1  6.9  7.7  8.5  9.3 10.1]\n"
     ]
    }
   ],
   "source": [
    "x = np.arange(10.4)\n",
    "print(x)\n",
    "x = np.arange(0.5, 10.4, 0.8)\n",
    "print(x)"
   ]
  },
  {
   "cell_type": "markdown",
   "metadata": {},
   "source": [
    "## 12.3 Dimensions and Shapes\n",
    "\n",
    "### 12.3.1 Zero dimensional arrays\n",
    "\n",
    "It's possible to create multidimensional arrays in numpy. Scalars are zero dimensional. In the following\n",
    "example, we will create the scalar 42. Applying the ndim method to our scalar, we get the dimension of the\n",
    "array. We can also see that the type is a \"numpy.ndarray\" type."
   ]
  },
  {
   "cell_type": "code",
   "execution_count": 26,
   "metadata": {},
   "outputs": [
    {
     "name": "stdout",
     "output_type": "stream",
     "text": [
      "x:  42\n",
      "The type of x:  <class 'numpy.ndarray'>\n",
      "The dimension of x: 0\n"
     ]
    }
   ],
   "source": [
    "x = np.array(42)\n",
    "print(\"x: \", x)\n",
    "print(\"The type of x: \", type(x))\n",
    "print(\"The dimension of x:\", np.ndim(x))"
   ]
  },
  {
   "cell_type": "markdown",
   "metadata": {},
   "source": [
    "### 12.3.2 One dimensional arrays\n",
    "\n",
    "that numpy arrays are\n",
    "containers of items of the same type, e.g. only integers. The homogenous type of the array can be determined\n",
    "with the attribute \"dtype\", as we can learn from the following example:"
   ]
  },
  {
   "cell_type": "code",
   "execution_count": 27,
   "metadata": {},
   "outputs": [
    {
     "name": "stdout",
     "output_type": "stream",
     "text": [
      "F:  [ 1  1  2  3  5  8 13 21]\n",
      "V:  [ 3.4  6.9 99.8 12.8]\n",
      "Type of F:  int64\n",
      "Type of V:  float64\n",
      "Dimension of F:  1\n",
      "Dimension of V:  1\n"
     ]
    }
   ],
   "source": [
    "F = np.array([1, 1, 2, 3, 5, 8, 13, 21])\n",
    "V = np.array([3.4, 6.9, 99.8, 12.8])\n",
    "print(\"F: \", F)\n",
    "print(\"V: \", V)\n",
    "print(\"Type of F: \", F.dtype)\n",
    "print(\"Type of V: \", V.dtype)\n",
    "print(\"Dimension of F: \", np.ndim(F))\n",
    "print(\"Dimension of V: \", np.ndim(V))"
   ]
  },
  {
   "cell_type": "markdown",
   "metadata": {},
   "source": [
    "### 12.3.3 Multidimensional Arrays\n",
    "\n",
    "Of course, arrays of NumPy are not limited to one dimension. They are of arbitrary dimension. We create them\n",
    "by passing nested lists (or tuples) to the array method of numpy."
   ]
  },
  {
   "cell_type": "code",
   "execution_count": 28,
   "metadata": {},
   "outputs": [
    {
     "name": "stdout",
     "output_type": "stream",
     "text": [
      "3\n",
      "(3, 2, 2)\n"
     ]
    }
   ],
   "source": [
    "B = np.array([[[111, 112], [121, 122]],\n",
    "              [[211, 212], [221, 222]],\n",
    "              [[311, 312], [321, 322]]]\n",
    "            )\n",
    "print(B.ndim)\n",
    "print(B.shape)"
   ]
  },
  {
   "cell_type": "markdown",
   "metadata": {},
   "source": [
    "### 12.4 Slicing\n",
    "\n",
    "We can also slice and index multidimensional arrays, indeed in two ways; one more efficient than the other."
   ]
  },
  {
   "cell_type": "code",
   "execution_count": 29,
   "metadata": {},
   "outputs": [
    {
     "name": "stdout",
     "output_type": "stream",
     "text": [
      "1.1\n",
      "1.1\n"
     ]
    }
   ],
   "source": [
    "A = np.array([[3.4, 8.7, 9.9],\n",
    "             [1.1, -7.8, -0.7],\n",
    "             [4.1, 12.3, 4.8]]\n",
    "            )\n",
    "print(A[1][0])\n",
    "print(A[1, 0])"
   ]
  },
  {
   "cell_type": "markdown",
   "metadata": {},
   "source": [
    "We accessed an element in the second row, i.e. the row with the index 1, and the first column (index 0). We\n",
    "accessed it the same way, we would have done with an element of a nested Python list.\n",
    "You have to be aware of the fact, that way of accessing multi-dimensional arrays can be highly inefficient.\n",
    "There is another way to access elements of multi-dimensional arrays in Numpy: We use only one pair of\n",
    "square brackets and all the indices are separated by commas:"
   ]
  },
  {
   "cell_type": "markdown",
   "metadata": {},
   "source": [
    "### 12.5 Creating Arrays\n",
    "\n",
    "We might want to initialize empty arrays for filling in later. There are two common ways to do this, with either zeros or ones:"
   ]
  },
  {
   "cell_type": "code",
   "execution_count": 30,
   "metadata": {},
   "outputs": [
    {
     "name": "stdout",
     "output_type": "stream",
     "text": [
      "[[1 1 1 1]\n",
      " [1 1 1 1]\n",
      " [1 1 1 1]]\n",
      "[[0. 0. 0. 0.]\n",
      " [0. 0. 0. 0.]]\n"
     ]
    }
   ],
   "source": [
    "F = np.ones((3,4), dtype=int)\n",
    "print(F)\n",
    "\n",
    "Z = np.zeros((2,4))\n",
    "print(Z)"
   ]
  },
  {
   "cell_type": "markdown",
   "metadata": {},
   "source": [
    "We can also make an idenity matrix (useful for linear algebra)"
   ]
  },
  {
   "cell_type": "code",
   "execution_count": 31,
   "metadata": {},
   "outputs": [
    {
     "data": {
      "text/plain": [
       "array([[1., 0., 0., 0.],\n",
       "       [0., 1., 0., 0.],\n",
       "       [0., 0., 1., 0.],\n",
       "       [0., 0., 0., 1.]])"
      ]
     },
     "execution_count": 31,
     "metadata": {},
     "output_type": "execute_result"
    }
   ],
   "source": [
    "np.identity(4)"
   ]
  },
  {
   "cell_type": "markdown",
   "metadata": {},
   "source": [
    "Note, here, that we aren't talking about dtypes or structured arrays, because pandas generally supercedes numpy for tasks which involve things like that."
   ]
  },
  {
   "cell_type": "markdown",
   "metadata": {},
   "source": [
    "### 12.6 Basic matrix arithmatic\n",
    "\n",
    "Lets start with adding a scalar to an array:"
   ]
  },
  {
   "cell_type": "code",
   "execution_count": 32,
   "metadata": {},
   "outputs": [
    {
     "data": {
      "text/plain": [
       "array([7, 8, 9])"
      ]
     },
     "execution_count": 32,
     "metadata": {},
     "output_type": "execute_result"
    }
   ],
   "source": [
    "v = np.array([5, 6, 7])\n",
    "v + 2"
   ]
  },
  {
   "cell_type": "markdown",
   "metadata": {},
   "source": [
    "How about multiplying by a scalar? Exactly as we expect:"
   ]
  },
  {
   "cell_type": "code",
   "execution_count": 33,
   "metadata": {},
   "outputs": [
    {
     "data": {
      "text/plain": [
       "array([15, 18, 21])"
      ]
     },
     "execution_count": 33,
     "metadata": {},
     "output_type": "execute_result"
    }
   ],
   "source": [
    "np.array([5, 6, 7]) * 3"
   ]
  },
  {
   "cell_type": "markdown",
   "metadata": {},
   "source": [
    "If we use another array instead of a scalar, the elements of both arrays will be component-wise combined:"
   ]
  },
  {
   "cell_type": "code",
   "execution_count": 34,
   "metadata": {},
   "outputs": [
    {
     "name": "stdout",
     "output_type": "stream",
     "text": [
      "Adding to arrays: \n",
      "[[12. 13. 14.]\n",
      " [22. 23. 24.]\n",
      " [32. 33. 34.]]\n",
      "\n",
      "Multiplying two arrays: \n",
      "[[22. 24. 26.]\n",
      " [42. 44. 46.]\n",
      " [62. 64. 66.]]\n"
     ]
    }
   ],
   "source": [
    "A = np.array([ [11, 12, 13], [21, 22, 23], [31, 32, 33] ])\n",
    "B = np.ones((3,3))\n",
    "print(\"Adding to arrays: \")\n",
    "print(A + B)\n",
    "print(\"\\nMultiplying two arrays: \")\n",
    "print(A * (B + 1))"
   ]
  },
  {
   "cell_type": "markdown",
   "metadata": {},
   "source": [
    "This should not be mistaken for matrix multiplication. The elements are solely component-wise multiplied. For this purpose, we can use the dot product. Using the previous arrays, we can calculate the matrix multiplication:"
   ]
  },
  {
   "cell_type": "code",
   "execution_count": 35,
   "metadata": {},
   "outputs": [
    {
     "data": {
      "text/plain": [
       "array([[36., 36., 36.],\n",
       "       [66., 66., 66.],\n",
       "       [96., 96., 96.]])"
      ]
     },
     "execution_count": 35,
     "metadata": {},
     "output_type": "execute_result"
    }
   ],
   "source": [
    "np.dot(A, B)"
   ]
  },
  {
   "cell_type": "markdown",
   "metadata": {},
   "source": [
    "### 12.7 Comparisons\n",
    "\n",
    "Comparisons are performed elementwise:"
   ]
  },
  {
   "cell_type": "code",
   "execution_count": 36,
   "metadata": {},
   "outputs": [
    {
     "data": {
      "text/plain": [
       "array([[ True, False,  True],\n",
       "       [False,  True, False],\n",
       "       [ True,  True, False]])"
      ]
     },
     "execution_count": 36,
     "metadata": {},
     "output_type": "execute_result"
    }
   ],
   "source": [
    "A = np.array([ [11, 12, 13], [21, 22, 23], [31, 32, 33] ])\n",
    "B = np.array([ [11, 102, 13], [201, 22, 203], [31, 32, 303] ])\n",
    "A == B"
   ]
  },
  {
   "cell_type": "markdown",
   "metadata": {},
   "source": [
    "We can use `array_equal' if we want to check whether two entire arrays are elementwise equal:"
   ]
  },
  {
   "cell_type": "code",
   "execution_count": 37,
   "metadata": {},
   "outputs": [
    {
     "name": "stdout",
     "output_type": "stream",
     "text": [
      "False\n",
      "True\n"
     ]
    }
   ],
   "source": [
    "print(np.array_equal(A, B))\n",
    "print(np.array_equal(A, A))"
   ]
  },
  {
   "cell_type": "markdown",
   "metadata": {},
   "source": [
    "### 12. 8 Broadcasting\n",
    "\n",
    "Numpy provides a powerful mechanism, called Broadcasting, which allows to perform arithmetic operations\n",
    "on arrays of different shapes. This is extremely computationally efficient in general, as it saves on memory storage and in the use of loops"
   ]
  },
  {
   "cell_type": "code",
   "execution_count": 38,
   "metadata": {},
   "outputs": [
    {
     "name": "stdout",
     "output_type": "stream",
     "text": [
      "Multiplication with broadcasting: \n",
      "[[11 24 39]\n",
      " [21 44 69]\n",
      " [31 64 99]]\n",
      "... and now addition with broadcasting: \n",
      "[[12 14 16]\n",
      " [22 24 26]\n",
      " [32 34 36]]\n"
     ]
    }
   ],
   "source": [
    "A = np.array([ [11, 12, 13], [21, 22, 23], [31, 32, 33] ])\n",
    "B = np.array([1, 2, 3])\n",
    "print(\"Multiplication with broadcasting: \")\n",
    "print(A * B)\n",
    "print(\"... and now addition with broadcasting: \")\n",
    "print(A + B)"
   ]
  },
  {
   "cell_type": "markdown",
   "metadata": {},
   "source": [
    "### 12.9 Flattening, Reshaping, and Concatenating\n",
    "\n",
    "Lets see first an example of flattening a two dimensional array:"
   ]
  },
  {
   "cell_type": "code",
   "execution_count": 39,
   "metadata": {},
   "outputs": [
    {
     "data": {
      "text/plain": [
       "array([0, 1, 2, 3, 4, 5])"
      ]
     },
     "execution_count": 39,
     "metadata": {},
     "output_type": "execute_result"
    }
   ],
   "source": [
    "A=np.array([[0, 1],\n",
    "            [2, 3],\n",
    "            [4, 5]\n",
    "           ] # Note the indenting here\n",
    "        )\n",
    "A.flatten()"
   ]
  },
  {
   "cell_type": "markdown",
   "metadata": {},
   "source": [
    "The method reshape() gives a new shape to an array without changing its data:"
   ]
  },
  {
   "cell_type": "code",
   "execution_count": 40,
   "metadata": {},
   "outputs": [
    {
     "data": {
      "text/plain": [
       "array([[[ 0,  1],\n",
       "        [ 2,  3],\n",
       "        [ 4,  5]],\n",
       "\n",
       "       [[ 6,  7],\n",
       "        [ 8,  9],\n",
       "        [10, 11]]])"
      ]
     },
     "execution_count": 40,
     "metadata": {},
     "output_type": "execute_result"
    }
   ],
   "source": [
    "X = np.array(range(12))\n",
    "X.reshape((2,3,2))"
   ]
  },
  {
   "cell_type": "markdown",
   "metadata": {},
   "source": [
    "And, finally, concatenating:"
   ]
  },
  {
   "cell_type": "code",
   "execution_count": 41,
   "metadata": {},
   "outputs": [
    {
     "data": {
      "text/plain": [
       "array([ 0,  1,  2,  3,  4, 10, 11])"
      ]
     },
     "execution_count": 41,
     "metadata": {},
     "output_type": "execute_result"
    }
   ],
   "source": [
    "x = np.array(range(5))\n",
    "y = np.array(range(10,12))\n",
    "np.concatenate((x,y))"
   ]
  },
  {
   "cell_type": "markdown",
   "metadata": {},
   "source": [
    "### Section 12.10 Your turn!\n",
    "\n",
    "Generate a 5x5 Identity matrix, and a 5x1 vector. Multiply them by one another. Check that the shape of the output is exactly what we think it is."
   ]
  },
  {
   "cell_type": "markdown",
   "metadata": {},
   "source": [
    "## Optional Homework\n",
    "\n",
    "Can you come up with another example of pseudocode, and the convert it to real code with everything we've learnt so far?\n",
    "\n",
    "## Non-Optional Homework!\n",
    "\n",
    "See Homework_Three.ipynb in the 'Homeworks' section of the course materials!"
   ]
  }
 ],
 "metadata": {
  "kernelspec": {
   "display_name": "Python 3 (ipykernel)",
   "language": "python",
   "name": "python3"
  },
  "language_info": {
   "codemirror_mode": {
    "name": "ipython",
    "version": 3
   },
   "file_extension": ".py",
   "mimetype": "text/x-python",
   "name": "python",
   "nbconvert_exporter": "python",
   "pygments_lexer": "ipython3",
   "version": "3.11.5"
  }
 },
 "nbformat": 4,
 "nbformat_minor": 4
}
