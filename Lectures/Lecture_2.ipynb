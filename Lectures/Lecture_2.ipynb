{
 "cells": [
  {
   "cell_type": "markdown",
   "metadata": {},
   "source": [
    "#  Python for Economic and Social Data Science: Lecture Two\n",
    "\n",
    "---\n",
    "\n",
    "Lets now run the homework randomiser for the first time, where each randomly selected student will answer some of the questions!"
   ]
  },
  {
   "cell_type": "markdown",
   "metadata": {},
   "source": [
    "### Recap from last the last class\n",
    "\n",
    "What did we learn about in the last class?\n",
    "* Characters\n",
    "* Strings\n",
    "* Intergers and Floats\n",
    "* Collections: lists, tuples, and dictionaries.\n"
   ]
  },
  {
   "cell_type": "markdown",
   "metadata": {},
   "source": [
    "## Section 4: Iterating over a collection\n",
    "\n",
    "We now move onto **control statements** which are **absolutely critical** for any advanced Python work. The first one we will consider is the `_for loop_' for iterating over objects such as lists.\n",
    "\n",
    "Virtually any *collection* can be iterated. Python will keep track of the elements in a collection so that each element is used only once. If a collection is unordered python will not necessarily give you the elements in the order that they were created. The ordering is actually related to how they are stored in memory and so it could change at any point. The main way to iterate through a collection is to use the infamous *for loop*. This will iteratively 'loop' through all elements of our collection, operating on them one at a time. where 'i' is the conventional iterator, try something like the following:"
   ]
  },
  {
   "cell_type": "code",
   "execution_count": null,
   "metadata": {},
   "outputs": [],
   "source": [
    "PrimeList = [1, 2, 3, 5, 7, 11, 13]\n",
    "\n",
    "for prime_number_int in PrimeList: \n",
    "    print(prime_number)\n",
    "print(i)\n",
    "print(i*5)\n",
    "i = i*5\n",
    "\n",
    "\n",
    "print(str(i) + ' is the answer to our problem')"
   ]
  },
  {
   "cell_type": "markdown",
   "metadata": {},
   "source": [
    "Above, 'i' is the 'iterator', and 'PrimeList' is the collection which we're iterating over."
   ]
  },
  {
   "cell_type": "code",
   "execution_count": null,
   "metadata": {},
   "outputs": [],
   "source": [
    "research_interests = {'Computer Science', 'Economics', 'Social Science'}\n",
    "\n",
    "for subject in research_interests:\n",
    "    print('Did you know that '+ subject +' is my favourite research interest?')"
   ]
  },
  {
   "cell_type": "code",
   "execution_count": null,
   "metadata": {},
   "outputs": [],
   "source": [
    "research_interests = {'Computer Science', 'Economics', 'Social Science'}\n",
    "\n",
    "for letter in 'Computer Science':\n",
    "    print(letter)"
   ]
  },
  {
   "cell_type": "markdown",
   "metadata": {},
   "source": [
    "However, we can use any iterator. Like variable names, try to pick something meaningful. I like this style:"
   ]
  },
  {
   "cell_type": "code",
   "execution_count": null,
   "metadata": {},
   "outputs": [],
   "source": [
    "for interest in research_interests:\n",
    "    print('Did you know that '+ i +' is my favourite research interest?')"
   ]
  },
  {
   "cell_type": "markdown",
   "metadata": {},
   "source": [
    "What are your favourite foods in China?"
   ]
  },
  {
   "cell_type": "code",
   "execution_count": null,
   "metadata": {},
   "outputs": [],
   "source": [
    "chinese_cuisine = ['Sichuan cuisine (川菜)', 'Hunan cuisine (湘菜) ', 'Anhui cuisine (徽菜)']\n",
    "for cuisine in chinese_cuisine:\n",
    "    print(cuisine +' is my favourite!')"
   ]
  },
  {
   "cell_type": "markdown",
   "metadata": {},
   "source": [
    "There are two important things to note here:\n",
    "\n",
    "1. First, we *absolutely need* the colon at the end of the opening line of the control statement (try without!)\n",
    "\n",
    "2. Secondly, note the indentation. In Python, whitespace is used to denote blocks (in other langauges, brackets or braces are used). ```def```, ```if```, ```elif```, ```else```, ```try```, ```except```, ```finally```, ```with```, ```for```, ```while```, and ```class``` all start blocks. Some of these we will see more of in this course. To end the indentation, we just 'outdent' (i.e. go back to where we were before the block began). An indent can either be 4 spaces _or_ a tab. People have very heated discussions about [which to use](https://stackoverflow.blog/2017/06/15/developers-use-spaces-make-money-use-tabs/), but at this level, either is fine.\n",
    "\n",
    "Put simply in this context: this indentation is how Python manages what is inside a loop, and what is after the loop. What happens if we dont intent, or dont include the colon?"
   ]
  },
  {
   "cell_type": "markdown",
   "metadata": {},
   "source": [
    "Lets try some more examples, because this concept of a for loop is so critical:"
   ]
  },
  {
   "cell_type": "code",
   "execution_count": null,
   "metadata": {},
   "outputs": [],
   "source": [
    "for out_of_office in ('Journeying afar',\n",
    "                      'Returning soon to you',\n",
    "                      'Your message in wait',\n",
    "                      'Until my swift comeback',\n",
    "                      'I anticipate our exchange'\n",
    "                     ):\n",
    "    print(out_of_office)"
   ]
  },
  {
   "cell_type": "markdown",
   "metadata": {},
   "source": [
    "Lets move on to the concept of a 'loop counter':"
   ]
  },
  {
   "cell_type": "code",
   "execution_count": null,
   "metadata": {},
   "outputs": [],
   "source": [
    "counter = 0\n",
    "for cuisine in chinese_cuisine:\n",
    "    counter += 1\n",
    "    print('I like to eat ' + cuisine +'. It is rank: ' + str(counter))"
   ]
  },
  {
   "cell_type": "code",
   "execution_count": null,
   "metadata": {},
   "outputs": [],
   "source": [
    "counter = 0\n",
    "for i in range(0, 10):\n",
    "    print(i)\n",
    "#    counter +=1\n",
    "#    print(counter)"
   ]
  },
  {
   "cell_type": "markdown",
   "metadata": {},
   "source": [
    "### 4.1. [Iteration isn't always in sequence](https://stackoverflow.com/questions/3848091/set-iteration-order-varies-from-run-to-run).\n",
    "\n",
    "Below, you will see iteration over sets, lists and dictionaries. *Importantly*: note that sets and dictionaries are not guaranteed to come back in order, but all will be returned eventually. Notice how dictionaries are slightly different since they are not collections of elements, but *pairs* of elements. You can also have ordered dictionaries, although this is left for the optional homework."
   ]
  },
  {
   "cell_type": "code",
   "execution_count": null,
   "metadata": {},
   "outputs": [],
   "source": [
    "my_list = [1, 1, 2, 2, 3, 4]\n",
    "len(my_list) == len(set(my_list))"
   ]
  },
  {
   "cell_type": "code",
   "execution_count": null,
   "metadata": {
    "scrolled": true
   },
   "outputs": [],
   "source": [
    "college_list = ['nuffield', 'st cats', 'st cross', 'nuffield', 'trinty']\n",
    "college_set = set(college_list) # notice how some dissapear? why?\n",
    "\n",
    "print(\"List of colleges:\")\n",
    "for i in college_list: \n",
    "    print(i)\n",
    "print(\"\\n\") # this just adds a space in between the results rather than actually printing any content"
   ]
  },
  {
   "cell_type": "code",
   "execution_count": null,
   "metadata": {},
   "outputs": [],
   "source": [
    "print(\"Set of colleges:\")\n",
    "print(college_set)\n",
    "print('*'*10)\n",
    "for i in college_set: \n",
    "    print(i)"
   ]
  },
  {
   "cell_type": "code",
   "execution_count": null,
   "metadata": {},
   "outputs": [],
   "source": [
    "colleges = {\"a\":\"all souls\", \"b\":[\"brasenose\", \"balliol\"], \"e\":\"exeter\"}\n",
    "\n",
    "print(\"\\nDictionary [default, keys]:\")\n",
    "for i in colleges:\n",
    "    print(i)\n",
    "    \n",
    "print(\"\\nDictionary [values]:\")\n",
    "for i in colleges.values(): \n",
    "    print(i)"
   ]
  },
  {
   "cell_type": "code",
   "execution_count": null,
   "metadata": {},
   "outputs": [],
   "source": [
    "print(\"\\nDictionary [values] - by querying:\")\n",
    "for i in colleges:\n",
    "    print(colleges[i])\n",
    "\n",
    "print(\"\\nDictionary [items] - single query:\")\n",
    "for i in colleges.items(): \n",
    "    print(i)\n",
    "    \n",
    "print(\"\\nDictionary [items] - double query:\")\n",
    "for i,j in colleges.items(): \n",
    "    print(i,\":\",j)"
   ]
  },
  {
   "cell_type": "markdown",
   "metadata": {},
   "source": [
    "### 4.2. More advanced collection iteration: zip!\n",
    "\n",
    "The zip command in Python is a built-in function that aggregates elements from multiple iterable objects (like lists or tuples) into tuples of corresponding elements. It takes multiple iterables as arguments and returns an iterator of tuples where the i-th tuple contains the i-th element from each of the input iterables.\n",
    "\n",
    "One useful application of zip is in iterating over multiple lists simultaneously, especially when you need to work with corresponding elements together. It simplifies the process of iterating and operating on such paired data, making code more concise and readable."
   ]
  },
  {
   "cell_type": "code",
   "execution_count": null,
   "metadata": {},
   "outputs": [],
   "source": [
    "# Define two lists\n",
    "list1 = [1, 2, 3]\n",
    "list2 = [10, 10, 1000, 'a']\n",
    "list3 = [1, 2, 3]\n",
    "\n",
    "counter = 0\n",
    "# Iterating over corresponding elements using zip and a for loop\n",
    "for elem1, elem2, elem3 in zip(list1, list2, list3):\n",
    "    counter+=1\n",
    "    print(counter)"
   ]
  },
  {
   "cell_type": "markdown",
   "metadata": {},
   "source": [
    "### Section 4.3.: Your turn!\n",
    "\n",
    "Make a dictionary of your favourite foods and the score you give them. Iterate over the dictionary, and print out each food and score."
   ]
  },
  {
   "cell_type": "code",
   "execution_count": null,
   "metadata": {},
   "outputs": [],
   "source": [
    "best_food = {'tofu': 10,\n",
    "             'water': 9,\n",
    "             'fruit': 9}\n",
    "\n",
    "for food, score in best_food.items():\n",
    "    print(food, score)\n",
    "    \n",
    "    \n",
    "    \n",
    "print('Loop finished')"
   ]
  },
  {
   "cell_type": "markdown",
   "metadata": {},
   "source": [
    "# Section 5: Boolean logic and Control statements\n",
    "\n",
    "Python allows you to evaluate whether something is ```True``` or ```False```, at least within it's expected logic (which is pretty intuitive most of the time). Once you know how to evaluate a statement you can use this evaluation to control the **flow** in a program. For example, we might say do something if a statement is true and then do something else if another statement applies (This is Boolean logic: a form of algebra in which all values are reduced to either TRUE or FALSE).\n",
    "\n",
    "Note: Python uses two equals signs to mean 'test for equality'. This is not the only way things evaluate to true in Python (i.e. `'cat' is in 'happy cat'`), but it is the most common one. *Note that a single equals sign leads to assignment, not a test for equality*! Can you figure out what's going on in the following set of conditions?"
   ]
  },
  {
   "cell_type": "code",
   "execution_count": null,
   "metadata": {},
   "outputs": [],
   "source": [
    "SomeNumbers = [1, 2, 3, 'cat', 5]\n",
    "firstcheck = 13\n",
    "secondcheck = 'dog'\n",
    "\n",
    "\n",
    "if firstcheck in SomeNumbers:\n",
    "    print(str(firstcheck) + ' is in my list of numbers!')\n",
    "elif secondcheck in SomeNumbers:\n",
    "    print(secondcheck +' is in my list')\n",
    "else:\n",
    "    print(str(firstcheck) + ' nor ' + secondcheck + ' is in my list of numbers!')"
   ]
  },
  {
   "cell_type": "code",
   "execution_count": null,
   "metadata": {},
   "outputs": [],
   "source": [
    "SomeNumbers = [1, 2, 3, 4, 5]\n",
    "3 in SomeNumbers"
   ]
  },
  {
   "cell_type": "markdown",
   "metadata": {},
   "source": [
    "Can you figure out why the following prints ```False``` ```True``` ```True```?"
   ]
  },
  {
   "cell_type": "code",
   "execution_count": null,
   "metadata": {},
   "outputs": [],
   "source": [
    "var1 = 4\n",
    "var2 = \"Four\"\n",
    "var3 = float(2*2)\n",
    "\n",
    "print(var1 == var2, var1 == var3, var1 != var2)"
   ]
  },
  {
   "cell_type": "markdown",
   "metadata": {},
   "source": [
    "### Section: 5.1 Combing control and loop statements\n",
    "\n",
    "Now we also combine a control ('if') statement and a loop statement from above. _Note the double indentation!_ By combining multiple 'parent' and 'child' indentation blocks and statements, we can effectively build a *very* powerful algorithm.\n",
    "\n",
    "As an aside, note that in general, computer programs are simply a series of (conditional) control statements."
   ]
  },
  {
   "cell_type": "code",
   "execution_count": null,
   "metadata": {},
   "outputs": [],
   "source": [
    "exList = [1, 3, 6, 7, 15, 533]\n",
    "\n",
    "for num in exList:   # For every item in our list\n",
    "    if num%2 == 1:   # If the remainder of dividing by two is one, then:\n",
    "        print(num, \"is an odd number\")\n",
    "    else:\n",
    "        print(num, \"is an even number\")"
   ]
  },
  {
   "cell_type": "markdown",
   "metadata": {},
   "source": [
    "We can also nest '```if```' statements in order to control the flow of our code more carefully: within the same indentation we can use mutiple '```elif```' statements as well as an else (to end the control statement - i.e. no more ```elif```s coming. Notice what is printed out for the number six in the statement below:"
   ]
  },
  {
   "cell_type": "code",
   "execution_count": null,
   "metadata": {},
   "outputs": [],
   "source": [
    "exList = [1, 3, 6, 7, 15, 533]\n",
    "\n",
    "for num in exList:\n",
    "    if num%2 == 0: \n",
    "        print(num, \"can be divided by two\")  # Note slightly different way of string formatting\n",
    "    if num%3 == 0:\n",
    "        print(num, \"can be divided by three\")\n",
    "    if (num%2 != 0) and (num%3 != 0):\n",
    "        print(num, \"is neither divisible by two nor three\")"
   ]
  },
  {
   "cell_type": "markdown",
   "metadata": {},
   "source": [
    "### Section 5.2.: Your turn!\n",
    "\n",
    "Make a list of your favourite foods, which contains a duplicate. Iterate over it, creating a new list. If your duplicate is already in your new list, do not add it."
   ]
  },
  {
   "cell_type": "code",
   "execution_count": null,
   "metadata": {},
   "outputs": [],
   "source": [
    "my_food = ['tofu', 'tofu', 'water', 'fruit']\n",
    "new_list = []\n",
    "for food in my_food:\n",
    "    if food not in new_list:\n",
    "        new_list.append(food)\n",
    "    else:\n",
    "        print(food + ' is already in our new list')\n",
    "new_list"
   ]
  },
  {
   "cell_type": "markdown",
   "metadata": {},
   "source": [
    "## Section 6: More on Loops\n",
    "\n",
    "### Section 6.1: Indentations: Recap - outside of control still in for!\n",
    "\n",
    "A quick recap: it's easy to forget where we are in the indentation 'parent'/'child' relationship. For example, the following code block prints *every letter* in the loop in such a way that only the letter 'a' is printed in upper case as 'A':"
   ]
  },
  {
   "cell_type": "code",
   "execution_count": null,
   "metadata": {},
   "outputs": [],
   "source": [
    "list1 = ['a','b','c','a']\n",
    " \n",
    "for i in list1: \n",
    "    print(i)\n",
    "\n",
    "######\n",
    "\n",
    "if i == 'a':\n",
    "    i = i.upper()\n",
    "    if i == 'A':\n",
    "        print(i)\n",
    "print(i)"
   ]
  },
  {
   "cell_type": "markdown",
   "metadata": {},
   "source": [
    "### 6.2. Continue and break\n",
    "\n",
    "Sometimes you need to get out of a loop running a line of code. There are two ways to break this loop. The first, \"continue\", will return to the top of the loop and start again. The second, \"break\", will stop the loop entirely.\n",
    "\n",
    "See first for the use of a `continue` statement:"
   ]
  },
  {
   "cell_type": "code",
   "execution_count": null,
   "metadata": {},
   "outputs": [],
   "source": [
    "MyString = ''\n",
    "for val in \"Lets all join? github\":\n",
    "    if val == \"?\":\n",
    "        continue\n",
    "    MyString = MyString + val\n",
    "print(MyString)"
   ]
  },
  {
   "cell_type": "markdown",
   "metadata": {},
   "source": [
    "Then, see an example of a break. In both of these two examples, try to understand and explain in words exactly what is happening at each line of code. This is a great way to improve your learning!"
   ]
  },
  {
   "cell_type": "code",
   "execution_count": null,
   "metadata": {},
   "outputs": [],
   "source": [
    "for val in \"I love open science and reproducible research!\":\n",
    "    print(val)\n",
    "    if val == \"s\":\n",
    "        print('I found an \"s\"!')\n",
    "        print('but this isnt a break!')\n",
    "        continue\n",
    "    elif val == \"u\":\n",
    "        print('Ok, Im outta here!')\n",
    "        break\n",
    "print('Ive broke out of this loop early')"
   ]
  },
  {
   "cell_type": "markdown",
   "metadata": {},
   "source": [
    "### Section 6.3: While\n",
    "\n",
    "While loops are less common than for loops, but they certainly have a place in the Python ecosystem. Generally, a while loop continues to run 'while' it evaluates to true. The danger of while loops is that they may never terminate! Consider the following code as an example of when you might use a for loop, although"
   ]
  },
  {
   "cell_type": "code",
   "execution_count": null,
   "metadata": {},
   "outputs": [],
   "source": [
    "counter = 0\n",
    "while counter < 5:\n",
    "    print(\"This will end soon.\")\n",
    "    counter += 1\n",
    "print(counter)"
   ]
  },
  {
   "cell_type": "markdown",
   "metadata": {},
   "source": [
    "Consider the following example of an ```infinite``` while loop. In some circumstances, you may want it to perpetuate forever, but be sure that this is the case if so!\n",
    "\n",
    "(hint: save your notebook if running the below)"
   ]
  },
  {
   "cell_type": "code",
   "execution_count": null,
   "metadata": {},
   "outputs": [],
   "source": [
    "# *******************************\n",
    "# DANGER, DANGER, HIGH VOLTAGE #\n",
    "# *******************************\n",
    "\n",
    "#import time\n",
    "#\n",
    "#i=0\n",
    "#\n",
    "#while i>=0:\n",
    "#    print(\"Will this ever end?\")\n",
    "#    time.sleep(0.2)\n",
    "#    i=i+1"
   ]
  },
  {
   "cell_type": "markdown",
   "metadata": {},
   "source": [
    "### Section 6.4: List comprehensions\n",
    "\n",
    "These are one of the most handy features in Python, but they can also be tricky. We are introducing these here because you are likely to see them in code, and you should know what it is you're seeing. The general idea is that when you want to transform elements in a list and return a new list, you can do this in as a 'one-liner' statement. See first the way we already know:"
   ]
  },
  {
   "cell_type": "code",
   "execution_count": null,
   "metadata": {},
   "outputs": [],
   "source": [
    "languages = ['C', 'Python', 'R', 'MATLAB']\n",
    "bestlanguages = []\n",
    "otherlanguages = []\n",
    "for language in languages:\n",
    "    if (language == 'Python':\n",
    "        bestlanguages.append(language)\n",
    "    elif language == 'R'\n",
    "        otherlanguages.append(language)\n",
    "print(bestlanguages)\n",
    "print(otherlanguages)"
   ]
  },
  {
   "cell_type": "markdown",
   "metadata": {},
   "source": [
    "First lets show a list comprehension without the if condition:"
   ]
  },
  {
   "cell_type": "code",
   "execution_count": null,
   "metadata": {},
   "outputs": [],
   "source": [
    "languages = ['C', 'Python', 'R', 'MATLAB']\n",
    "alllanguages = []\n",
    "[alllanguages.append(language) for language in languages] # note no assignment\n",
    "print(alllanguages)"
   ]
  },
  {
   "cell_type": "markdown",
   "metadata": {},
   "source": [
    "List comprehensions can also include boolean operators (```if``` statements) so that an operation is only done on some elements of a list. Lets expand our solution above:"
   ]
  },
  {
   "cell_type": "code",
   "execution_count": null,
   "metadata": {},
   "outputs": [],
   "source": [
    "languages = ['C', 'Python', 'R', 'MATLAB']\n",
    "bestlanguages = [] #reset to empty\n",
    "[bestlanguages.append(language) for language in languages if language=='R' or language=='Python']\n",
    "print(bestlanguages)"
   ]
  },
  {
   "cell_type": "markdown",
   "metadata": {},
   "source": [
    "### Section 6.5.: Your turn!\n",
    "\n",
    "Repeat the exercise from 5.2, but this time instead use a list comprehension."
   ]
  },
  {
   "cell_type": "code",
   "execution_count": null,
   "metadata": {},
   "outputs": [],
   "source": [
    "#my_food = ['tofu', 'tofu', 'water', 'fruit']\n",
    "#new_list = []\n",
    "#for food in my_food:\n",
    "#    if food not in new_list:\n",
    "#        new_list.append(food)\n",
    "#    else:\n",
    "#        print(food + ' is already in our new list')\n",
    "#new_list\n",
    "\n",
    "# [bestlanguages.append(language) for language in languages if language=='R' or language=='Python']\n",
    "new_list = []\n",
    "[new_list.append(food) for food in my_food if food not in new_list]\n",
    "new_list"
   ]
  },
  {
   "cell_type": "markdown",
   "metadata": {},
   "source": [
    "## Section 7: User Input and Error Handling\n",
    "\n",
    "Sometimes you might want input from the user. In the following example, user input will be explored alongside loops and control statements.\n",
    "\n",
    "## Section 7.1: User Input"
   ]
  },
  {
   "cell_type": "code",
   "execution_count": null,
   "metadata": {},
   "outputs": [],
   "source": [
    "a = input(\"Hello! What's your favourite number?\")\n",
    "\n",
    "print(\"\\nThat's amazing! My favourite number is also %s\" % int(a))"
   ]
  },
  {
   "cell_type": "markdown",
   "metadata": {},
   "source": [
    "### Section 7.2.1: Error Handling\n",
    "\n",
    "But what happens when we put a string into the above? Thats right! A traceback! Introducing 'Error Handling' via ```try``` and ```except``` - this is a method to catch an error that you anticipate happening."
   ]
  },
  {
   "cell_type": "code",
   "execution_count": null,
   "metadata": {},
   "outputs": [],
   "source": [
    "a = input(\"Hello! What's your favourite number?\")\n",
    "try:\n",
    "    print(\"That's amazing! My favourite number is also %s\" % int(a))\n",
    "except:\n",
    "    print(\"\\\"%s\\\" is not a valid integer!\" % a)"
   ]
  },
  {
   "cell_type": "markdown",
   "metadata": {},
   "source": [
    "Another example:"
   ]
  },
  {
   "cell_type": "code",
   "execution_count": null,
   "metadata": {},
   "outputs": [],
   "source": [
    "x = 1\n",
    "y = 0\n",
    "\n",
    "try:\n",
    "    print(x/y)\n",
    "    print(int('cat'))\n",
    "except:\n",
    "    print(\"why is this being printed?\")\n",
    "print('More code here')"
   ]
  },
  {
   "cell_type": "markdown",
   "metadata": {},
   "source": [
    "If we want to be even more professional, we can specifically catch one type of error:"
   ]
  },
  {
   "cell_type": "code",
   "execution_count": null,
   "metadata": {},
   "outputs": [],
   "source": [
    "a = input(\"Hello! What's your favourite number?\")\n",
    "try:\n",
    "    print(\"That's amazing! My favourite number is also %s\" % int(a))\n",
    "except ValueError:\n",
    "    print(\"\\\"%s\\\" is not a valid integer!\" % a)"
   ]
  },
  {
   "cell_type": "markdown",
   "metadata": {},
   "source": [
    "Why is this good? Well, it allows us to catch errors that we might expect, but Python will then kindly flag all _other_types of errors that we don't anticipate. This can be very useful, and relates to the idea of `unit testing`."
   ]
  },
  {
   "cell_type": "markdown",
   "metadata": {},
   "source": [
    "### Section 7.2.2: Advanced Error Handling\n",
    "\n",
    "To become **even more** advanced, we can go further. Catch specific types of errors, and if then there is _another_ type of error, finally do something. THese can be nested indefinitely."
   ]
  },
  {
   "cell_type": "code",
   "execution_count": null,
   "metadata": {},
   "outputs": [],
   "source": [
    "x = 1\n",
    "y = 0\n",
    "\n",
    "try:\n",
    "    print(x/y)\n",
    "except ZeroDivisionError:\n",
    "    print(\"why is this being printed?\")"
   ]
  },
  {
   "cell_type": "code",
   "execution_count": null,
   "metadata": {},
   "outputs": [],
   "source": [
    "try:\n",
    "    print(x/y)\n",
    "except (TypeError, ZeroDivisionError):\n",
    "    print('Nested excepts are great!')"
   ]
  },
  {
   "cell_type": "markdown",
   "metadata": {},
   "source": [
    "### Section 7.3.: Your turn!\n",
    "\n",
    "Repeat the exercise in 6.5, but instead of a string, make one of your foods an integer. If the food is an interger, handle this error appropriately."
   ]
  },
  {
   "cell_type": "markdown",
   "metadata": {},
   "source": [
    "How can we avoid the last error, above?"
   ]
  },
  {
   "cell_type": "markdown",
   "metadata": {},
   "source": [
    "## Optional Homework\n",
    "\n",
    "Can you nest other ```if``` statements within the cell 19 example above to also print whether its a prime number? Alternatively, you could add a second Boolean test to the same ```if``` statement to make it a one-liner. Also investigate ordered dictionary objects if you have time!"
   ]
  },
  {
   "cell_type": "markdown",
   "metadata": {},
   "source": [
    "## Non-Optional Homework!\n",
    "\n",
    "See Homework_Two.ipynb in the 'Homeworks' section of the course materials!"
   ]
  }
 ],
 "metadata": {
  "kernelspec": {
   "display_name": "Python 3 (ipykernel)",
   "language": "python",
   "name": "python3"
  },
  "language_info": {
   "codemirror_mode": {
    "name": "ipython",
    "version": 3
   },
   "file_extension": ".py",
   "mimetype": "text/x-python",
   "name": "python",
   "nbconvert_exporter": "python",
   "pygments_lexer": "ipython3",
   "version": "3.11.7"
  }
 },
 "nbformat": 4,
 "nbformat_minor": 4
}
