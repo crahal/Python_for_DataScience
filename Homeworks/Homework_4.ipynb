{
 "cells": [
  {
   "cell_type": "markdown",
   "metadata": {},
   "source": [
    "#  Python for Economic and Social Data Science\n",
    "\n",
    "## 18th July, 2024\n",
    "---\n",
    "## Homework Four"
   ]
  },
  {
   "cell_type": "markdown",
   "metadata": {},
   "source": [
    "## Question One: Reading, writing and more function calls\n",
    "\n",
    "Take the following phrase: \"a hint of light in the dark, only enough to keep from giving up\". Write this phrase to a file, and then read and run it through the ```remove_a_letter``` function, so that it removes a letter one by one AT RANDOM. ```print``` the new phrase out one line at a time (hint: use a ```while```), and dont forget to close the file!\n",
    "\n",
    "\n",
    "```python\n",
    "import random\n",
    "def remove_a_letter(phrase):\n",
    "    index = random.randint(0,len(phrase)-1)\n",
    "    newphrase = phrase.replace(phrase[index],\"\")\n",
    "    return newphrase \n",
    "```"
   ]
  },
  {
   "cell_type": "code",
   "execution_count": null,
   "metadata": {},
   "outputs": [],
   "source": [
    "# Answer One here"
   ]
  },
  {
   "cell_type": "markdown",
   "metadata": {},
   "source": [
    "## Question Two: Webscraping\n",
    "\n",
    "5.a Basic: Scrape a picture of a cat from [thecatapi](https://thecatapi.com/) and programatically show it in an ipynb or rmd file.\\\n",
    "5.b. Advanced: Can you download a hundred of these pictures and turn them into a .gif?\n",
    "        "
   ]
  },
  {
   "cell_type": "code",
   "execution_count": 4,
   "metadata": {},
   "outputs": [],
   "source": [
    "# Answer Two here"
   ]
  },
  {
   "cell_type": "markdown",
   "metadata": {},
   "source": [
    "## Question Three: Webscraping\n",
    "\n",
    "Create a pandas DataFrame with the following data:\n",
    "\n",
    "| Name    | Age | Grade |\n",
    "|---------|-----|-------|\n",
    "| Alice   | 24  | 85    |\n",
    "| Bob     | 22  | 78    |\n",
    "| Charlie | 23  | 92    |\n",
    "| David   | 24  | 88    |\n",
    "| Eva     | 22  | 95    |\n",
    "\n",
    "Perform the following tasks:\n",
    "\n",
    "1. Calculate the average age of the students.\n",
    "2. Find the highest grade in the DataFrame.\n",
    "3. Add a new column called `Pass` which contains `True` if the grade is 80 or above, otherwise `False`.\n",
    "4. Print the resulting DataFrame."
   ]
  },
  {
   "cell_type": "code",
   "execution_count": 1,
   "metadata": {},
   "outputs": [],
   "source": [
    "# Answer Three here"
   ]
  }
 ],
 "metadata": {
  "kernelspec": {
   "display_name": "Python 3 (ipykernel)",
   "language": "python",
   "name": "python3"
  },
  "language_info": {
   "codemirror_mode": {
    "name": "ipython",
    "version": 3
   },
   "file_extension": ".py",
   "mimetype": "text/x-python",
   "name": "python",
   "nbconvert_exporter": "python",
   "pygments_lexer": "ipython3",
   "version": "3.11.5"
  }
 },
 "nbformat": 4,
 "nbformat_minor": 1
}
