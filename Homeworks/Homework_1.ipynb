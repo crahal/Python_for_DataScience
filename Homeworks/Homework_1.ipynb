{
 "cells": [
  {
   "cell_type": "markdown",
   "metadata": {},
   "source": [
    "#  Python for Economic and Social Data Science\n",
    "\n",
    "## 15th July, 2024\n",
    "---\n",
    "## Homework One"
   ]
  },
  {
   "cell_type": "markdown",
   "metadata": {},
   "source": [
    "### Question One: String Manipulation - Printing Strings"
   ]
  },
  {
   "cell_type": "code",
   "execution_count": 1,
   "metadata": {},
   "outputs": [],
   "source": [
    "# Please print your name here."
   ]
  },
  {
   "cell_type": "markdown",
   "metadata": {},
   "source": [
    "### Question Two: String Manuipulation Continued -- Special string characters\n",
    "\n",
    "Insert your name into the following example (including the spaces) WITHOUT using three quote. Keep the new lines but write it as just one line of code using the new line character (\\n).\n",
    "\n",
    "Hint: replace ``<your name here>`` with your name.\n",
    "```python\n",
    "print('''\n",
    "Hi! My name is <your name here> \n",
    "''')\n",
    "```"
   ]
  },
  {
   "cell_type": "code",
   "execution_count": 2,
   "metadata": {},
   "outputs": [],
   "source": [
    "# Answer Two here"
   ]
  },
  {
   "cell_type": "markdown",
   "metadata": {},
   "source": [
    "### Question Three: String Manuipulation Continued - Concatenating\n",
    "\n",
    "Using the variables below, print the \"[Konami Code](https://konami.fandom.com/wiki/Konami_Code)\": ↑ ↑ ↓ ↓ ← → ← → B A\n",
    "\n",
    "```python\n",
    "v1 = \"up,\"\n",
    "v2 = \"down,\"\n",
    "v3 = \"left,\"\n",
    "v4 = \"right,\"\n",
    "v5 = \"b,\"\n",
    "v6 = \"a,\"\n",
    "v7 = \"start\"\n",
    "```"
   ]
  },
  {
   "cell_type": "code",
   "execution_count": 3,
   "metadata": {},
   "outputs": [],
   "source": [
    "# Answer Three here"
   ]
  },
  {
   "cell_type": "markdown",
   "metadata": {},
   "source": [
    "### Question Four: String Manipulation Continued - Transforming\n",
    "\n",
    "Change the cases of the following three variables, printing them out in their new cases one per line: \n",
    "\n",
    "```python\n",
    "uppercaseme = \"Make me upper case!\"\n",
    "lowercaseme = \"Make me lower case.\"\n",
    "titlecaseme = \"Make me title case.\"\n",
    "```"
   ]
  },
  {
   "cell_type": "code",
   "execution_count": 4,
   "metadata": {},
   "outputs": [],
   "source": [
    "# Answer Four here"
   ]
  },
  {
   "cell_type": "markdown",
   "metadata": {},
   "source": [
    "### Question Five: Number Manipulation - Integers\n",
    "\n",
    "Print five different ways to get the number 25 as a result using five different operators, one per line. (i.e. '+' is an operator. Hint: for the fifth one, check out modulus and power operators)"
   ]
  },
  {
   "cell_type": "code",
   "execution_count": 5,
   "metadata": {},
   "outputs": [],
   "source": [
    "# Answer Fivee here"
   ]
  },
  {
   "cell_type": "markdown",
   "metadata": {},
   "source": [
    "### Question Six: Number Manipulation - Floating point numbers \n",
    "\n",
    "Print a [recurring decimal](https://www.mathsisfun.com/definitions/recurring-decimal.html) calculated from a division operation. How many decimals does it show?"
   ]
  },
  {
   "cell_type": "code",
   "execution_count": 6,
   "metadata": {},
   "outputs": [],
   "source": [
    "# Answer Six here"
   ]
  },
  {
   "cell_type": "markdown",
   "metadata": {},
   "source": [
    "### Question Seven: Dictionary Manipulation (2 points)\n",
    "\n",
    "Build a dictionary with three items where the KEY is a country of the world and the VALUE is the capital city.\n",
    "\n",
    "Print the  capitals by querying the keys one line at a time."
   ]
  },
  {
   "cell_type": "code",
   "execution_count": 7,
   "metadata": {},
   "outputs": [],
   "source": [
    "# Answer Seven here"
   ]
  },
  {
   "cell_type": "markdown",
   "metadata": {},
   "source": [
    "### Question Eight: Dictionary Manipulation Cont (2 points)\n",
    "\n",
    "Here is a dictionary:\n",
    "\n",
    "```python\n",
    "dict = {\"Red\":\"Apple\", \"Yellow\":\"Banana\", \"Orange\":\"Orange\"}\n",
    "```\n",
    "\n",
    "Replace the 'apple' value with 'cherry' (in Python, replacing the 'value' of the ['red'] key) and print all the key-value pairs in one print statement."
   ]
  },
  {
   "cell_type": "code",
   "execution_count": 8,
   "metadata": {},
   "outputs": [],
   "source": [
    "# Answer Eight here"
   ]
  },
  {
   "cell_type": "markdown",
   "metadata": {},
   "source": [
    "### Question Nine: List Manipulation (2 points) \n",
    "\n",
    "Here is a list:\n",
    "```python\n",
    "list1 = [\"alpha\", \"bravo\", \"charlie\", \"delta\", \"echo\", \"foxtrot\"]\n",
    "```\n",
    "\n",
    "By querying this list (list1) one item at a time, print out an [acrostic](https://www.poetryfoundation.org/learn/glossary-terms/acrostic). For example, if you wanted to print \"beef\" it would look like: \n",
    "```python\n",
    "bravo\n",
    "echo\n",
    "echo\n",
    "foxtrot\n",
    "```\n",
    "bad would look like:\n",
    "```python\n",
    "bravo\n",
    "alpha\n",
    "delta\n",
    "```\n",
    "and so forth..."
   ]
  },
  {
   "cell_type": "code",
   "execution_count": 9,
   "metadata": {},
   "outputs": [],
   "source": [
    "# Answer Nine here"
   ]
  },
  {
   "cell_type": "markdown",
   "metadata": {},
   "source": [
    "### Question Ten: List Manipulation Cont (2 points)\n",
    "\n",
    "Here is a list:\n",
    "```python\n",
    "wrong_order_list = [\"third\", \"first\", \"second\", \"fourth\", \"sixth\"]\n",
    "```\n",
    "Now create a new list that is in the right order by only indexing this list. Be sure to insert \"fifth\" into this new list in any way that you like."
   ]
  },
  {
   "cell_type": "code",
   "execution_count": 10,
   "metadata": {},
   "outputs": [],
   "source": [
    "# Answer Ten here"
   ]
  }
 ],
 "metadata": {
  "kernelspec": {
   "display_name": "Python 3 (ipykernel)",
   "language": "python",
   "name": "python3"
  },
  "language_info": {
   "codemirror_mode": {
    "name": "ipython",
    "version": 3
   },
   "file_extension": ".py",
   "mimetype": "text/x-python",
   "name": "python",
   "nbconvert_exporter": "python",
   "pygments_lexer": "ipython3",
   "version": "3.11.5"
  }
 },
 "nbformat": 4,
 "nbformat_minor": 4
}
