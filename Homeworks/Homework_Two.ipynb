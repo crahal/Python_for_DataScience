{
 "cells": [
  {
   "cell_type": "markdown",
   "metadata": {},
   "source": [
    "#  Python for Economic and Social Data Science\n",
    "\n",
    "## 16th July, 2024\n",
    "---\n",
    "## Homework Two"
   ]
  },
  {
   "cell_type": "markdown",
   "metadata": {},
   "source": [
    "## Question One: Len\n",
    "\n",
    "Using ```split``` and ```len```, figure out how to compute how many words are in this famous quote by Albert Einstein:\n",
    "\n",
    "```python\n",
    "albert_einstein = 'Logic will get you from A to Z, but imagination will take you everywhere.'\n",
    "```"
   ]
  },
  {
   "cell_type": "code",
   "execution_count": 1,
   "metadata": {},
   "outputs": [],
   "source": [
    "# Answer One here"
   ]
  },
  {
   "cell_type": "markdown",
   "metadata": {},
   "source": [
    "## Question Two: Letters in set\n",
    "\n",
    "Here are two lines of lyrics to a [great song](https://www.youtube.com/watch?v=lPYOeOra-JI):\n",
    "\n",
    "```python\n",
    "nownow1 = \"Stuck like those prehistoric mammoths in the ice\"\n",
    "nownow2 = \"Thaw me out and I won't close my eyes\"\n",
    "```\n",
    "\n",
    "Using a set, count the number of unique letters in nownow1. S and s should count as the same. "
   ]
  },
  {
   "cell_type": "code",
   "execution_count": 2,
   "metadata": {},
   "outputs": [],
   "source": [
    "# Answer Two here"
   ]
  },
  {
   "cell_type": "markdown",
   "metadata": {},
   "source": [
    "## Question Three: Overlapping Sets\n",
    "\n",
    "Print the unique letters that are in (the set of) nownow1 AND nownow2"
   ]
  },
  {
   "cell_type": "code",
   "execution_count": 3,
   "metadata": {},
   "outputs": [],
   "source": [
    "# Answer Three here"
   ]
  },
  {
   "cell_type": "markdown",
   "metadata": {},
   "source": [
    "## Question Four: Overlapping Sets\n",
    "\n",
    "```python\n",
    "wrongphrase = \"The slow red fox sat by the friendly dog\"\n",
    "```\n",
    "\n",
    "Print the right phrase (\"The quick brown fox jumps over the lazy dog\") by splitting, replacing the wrong words with the right ones, and then (re-)joining:"
   ]
  },
  {
   "cell_type": "code",
   "execution_count": 4,
   "metadata": {},
   "outputs": [],
   "source": [
    "# Answer Four here"
   ]
  },
  {
   "cell_type": "markdown",
   "metadata": {},
   "source": [
    "## Question Five: Overlapping Sets\n",
    "\n",
    "Loop through [the words](https://soundcloud.com/leahkardos/leah-kardos-dface-practice): if the word starts with an 'a', then print it:\n",
    "\n",
    "```python\n",
    "practicethis = \"The object of this lesson is to internalise the notes and the keys; in other words, it should become like a reflex for you to see the note on the page and immediately play that appropriate key, in the same way that you see a letter in a word, and immediately visualise the pronounciation.\"\n",
    "```"
   ]
  },
  {
   "cell_type": "code",
   "execution_count": 5,
   "metadata": {},
   "outputs": [],
   "source": [
    "# Answer Five here"
   ]
  },
  {
   "cell_type": "markdown",
   "metadata": {},
   "source": [
    "## Question Six: Dictionary Replacement\n",
    "\n",
    "a_descriptive_phrase = \"My name is Willy Loman and I am a salesman.\"\n",
    "\n",
    "```python\n",
    "about_you = {\n",
    "    \"Willy Loman\":\"your name\",\n",
    "    \"salesman\":\"your profession\",\n",
    "}\n",
    "```\n",
    "Print the correct phrase using the dictionary to replace the wrong words with the right ones. This will require you to split the phrase, use the dictionary above to replace the words. Then join the phrase together, then print it. (please feel free to change the dictionary values to anything you like!)"
   ]
  },
  {
   "cell_type": "code",
   "execution_count": 6,
   "metadata": {},
   "outputs": [],
   "source": [
    "# Answer Six here"
   ]
  },
  {
   "cell_type": "markdown",
   "metadata": {},
   "source": [
    "## Question Seven: For loops and if conditions\n",
    "\n",
    "The for loop below will run 10 times generating a random number each time. If the number is odd, multiply the number by two and then print a warning and the number on the same line. If the number is greater than 4, you should also print some words of wisdom (be creative!) on the same line as the (new) number. Here's a bit of code to get you started:\n",
    "\n",
    "```python\n",
    "import random\n",
    "for i in range(10):\n",
    "    rando = random.randint(0,9)\n",
    "```"
   ]
  },
  {
   "cell_type": "code",
   "execution_count": 7,
   "metadata": {},
   "outputs": [],
   "source": [
    "# Answer Seven here"
   ]
  },
  {
   "cell_type": "markdown",
   "metadata": {},
   "source": [
    "## Question Eight: For loops and if conditions\n",
    "\n",
    "Print a number UNLESS it has already been printed. Here's a bit of code to get you started:\n",
    "\n",
    "```python\n",
    "import random\n",
    "for i in range(10):\n",
    "    rando = random.randint(0,9)\n",
    "```"
   ]
  },
  {
   "cell_type": "code",
   "execution_count": 8,
   "metadata": {},
   "outputs": [],
   "source": [
    "# Answer Eight here"
   ]
  },
  {
   "cell_type": "markdown",
   "metadata": {},
   "source": [
    "## Question Nine: List Comprehension\n",
    "\n",
    "Write the following as a list comprehension:\n",
    "\n",
    "```python\n",
    "pwrs = []\n",
    "for i in range(0,10):\n",
    "    pwrs.append(i**i)\n",
    "print(pwrs)    \n",
    "```"
   ]
  },
  {
   "cell_type": "code",
   "execution_count": 9,
   "metadata": {},
   "outputs": [],
   "source": [
    "# Answer Nine here"
   ]
  },
  {
   "cell_type": "markdown",
   "metadata": {},
   "source": [
    "### Question Ten: List Comprehension Cont\n",
    "\n",
    "Write the following as a list comprehension which contains an if condition:\n",
    "\n",
    "```\n",
    "Tweet = \"Who’s Who study sheds new light on power of old boy network - great study by @SamFriedmanSoc @aaronsreeves @LSEnews\"\n",
    "```\n",
    "\n",
    "```python\n",
    "AtMentions = []\n",
    "for i in Tweet.split():\n",
    "    if i[0] == '@':\n",
    "        AtMentions.append(i)\n",
    "print(AtMentions)\n",
    "```"
   ]
  },
  {
   "cell_type": "code",
   "execution_count": 10,
   "metadata": {},
   "outputs": [],
   "source": [
    "# Answer Ten here"
   ]
  }
 ],
 "metadata": {
  "kernelspec": {
   "display_name": "Python 3 (ipykernel)",
   "language": "python",
   "name": "python3"
  },
  "language_info": {
   "codemirror_mode": {
    "name": "ipython",
    "version": 3
   },
   "file_extension": ".py",
   "mimetype": "text/x-python",
   "name": "python",
   "nbconvert_exporter": "python",
   "pygments_lexer": "ipython3",
   "version": "3.11.5"
  }
 },
 "nbformat": 4,
 "nbformat_minor": 1
}
