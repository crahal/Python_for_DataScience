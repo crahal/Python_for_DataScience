{
 "cells": [
  {
   "cell_type": "markdown",
   "metadata": {},
   "source": [
    "#  Python for Economic and Social Data Science\n",
    "\n",
    "## 17th July, 2024\n",
    "---\n",
    "## Homework Three"
   ]
  },
  {
   "cell_type": "markdown",
   "metadata": {},
   "source": [
    "### Question One: While loops\n",
    "    \n",
    "Write a spaceship launch style countdown timer using ```while```. The program should:\n",
    "\n",
    "1. Take a number as input from the user (i.e. the number of seconds for the countdown).\n",
    "2. Check that the user input is a number.\n",
    "3. Countdown to zero\n",
    "4. Blastoff!"
   ]
  },
  {
   "cell_type": "code",
   "execution_count": 1,
   "metadata": {},
   "outputs": [],
   "source": [
    "# Answer One here"
   ]
  },
  {
   "cell_type": "markdown",
   "metadata": {},
   "source": [
    "### Question Two: Psuedocode\n",
    "\n",
    "Write the following as pseudocode (i.e. go in reverse: from real code to pseudocode):\n",
    "    \n",
    "```python\n",
    "def square_numbers(maxnumber):\n",
    "    square_numbers_list = []\n",
    "   \n",
    "    for i in range(0,maxnumber):\n",
    "        if int(i**.5) == i**.5:\n",
    "            square_numbers_list.append(i)\n",
    "    \n",
    "    return square_numbers_list\n",
    "\n",
    "print(\"This program will print all square numbers from 0 to your maximum number.\")\n",
    "a = input(\"Please enter a maximum number: \")\n",
    "\n",
    "square_numbers_list = []\n",
    "\n",
    "try:\n",
    "    if int(a):\n",
    "        print(square_numbers(int(a)))\n",
    "\n",
    "except ValueError:\n",
    "    print(\"You did not enter a valid integer.\")\n",
    "```"
   ]
  },
  {
   "cell_type": "code",
   "execution_count": 2,
   "metadata": {},
   "outputs": [],
   "source": [
    "# Answer Two here"
   ]
  },
  {
   "cell_type": "markdown",
   "metadata": {},
   "source": [
    "## Question Three. Building a function\n",
    "\n",
    "Build a function which accepts a string as input. Use the functions to count the number of unique **letters** below, and print out the function return (length). \n",
    "\n",
    "```python\n",
    "phrase_one = \"Well here we are\"\n",
    "\n",
    "phrase_two = \"Back in sunny Xi'an!\"\n",
    "```\n",
    "\n",
    "To be more advanced: how many capital letters are there?"
   ]
  },
  {
   "cell_type": "code",
   "execution_count": 3,
   "metadata": {},
   "outputs": [],
   "source": [
    "# Answer Three here"
   ]
  },
  {
   "cell_type": "markdown",
   "metadata": {},
   "source": [
    " ## Question Four: Counting lines (4 Points)\n",
    " \n",
    " Save the following Taylor Swift verse as a text file:\n",
    "\n",
    "```python\n",
    "taylorswift=\"I dont trust nobody\\n\n",
    "and nobody trusts me\\n\n",
    "Ill be the actress\\n\n",
    "starring in your bad dreams\"\n",
    "```\n",
    "\n",
    "Then read it in, and count the number of lines programatically.\n",
    "\n",
    "**Can you figure out how to do it as a one-liner?**"
   ]
  },
  {
   "cell_type": "code",
   "execution_count": 4,
   "metadata": {},
   "outputs": [],
   "source": [
    "# Answer Four here"
   ]
  },
  {
   "cell_type": "markdown",
   "metadata": {},
   "source": [
    " ## Question Five: NumPy I\n",
    "\n",
    "Create a 1D NumPy array with integers from 1 to 10. Then, perform the following tasks:\n",
    "\n",
    "* Calculate the sum of all elements in the array.\n",
    "* Find the mean value of the array.\n",
    "* Multiply each element in the array by 2.\n",
    "* Print the resulting array after the multiplication."
   ]
  },
  {
   "cell_type": "code",
   "execution_count": 5,
   "metadata": {},
   "outputs": [],
   "source": [
    "# Answer Five here"
   ]
  },
  {
   "cell_type": "markdown",
   "metadata": {},
   "source": [
    "## Question Six: NumPy II\n",
    "\n",
    "Create a NumPy array of shape (3, 3) with random integers between 0 and 10. Then, perform the following tasks:\n",
    "\n",
    "* Calculate the sum of all elements in the array.\n",
    "* Find the maximum value in the array.\n",
    "* Calculate the mean value of the array.\n",
    "* Replace all even numbers in the array with -1.\n",
    "* Print the resulting array after the replacement."
   ]
  },
  {
   "cell_type": "code",
   "execution_count": 6,
   "metadata": {},
   "outputs": [],
   "source": [
    "# Answer Six here"
   ]
  }
 ],
 "metadata": {
  "kernelspec": {
   "display_name": "Python 3 (ipykernel)",
   "language": "python",
   "name": "python3"
  },
  "language_info": {
   "codemirror_mode": {
    "name": "ipython",
    "version": 3
   },
   "file_extension": ".py",
   "mimetype": "text/x-python",
   "name": "python",
   "nbconvert_exporter": "python",
   "pygments_lexer": "ipython3",
   "version": "3.11.5"
  }
 },
 "nbformat": 4,
 "nbformat_minor": 1
}
